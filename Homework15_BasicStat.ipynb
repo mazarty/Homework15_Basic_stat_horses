{
 "cells": [
  {
   "cell_type": "code",
   "execution_count": 1,
   "metadata": {},
   "outputs": [],
   "source": [
    "\"\"\"Задание 1. Базовое изучение\n",
    "Изучить представленный набор данных на основе описания его столбцов и выбрать 8 столбцов для дальнейшего изучения \n",
    "(среди них должны быть как числовые, так и категориальные). Провести расчет базовых метрик для них, \n",
    "кратко описать результаты\n",
    "\"\"\"\n",
    "import pandas as pd"
   ]
  },
  {
   "cell_type": "code",
   "execution_count": 2,
   "metadata": {},
   "outputs": [],
   "source": [
    "missing_values = [\"?\"]\n",
    "horse_data = pd.read_csv('horse_data.csv',header=None,na_values = missing_values)"
   ]
  },
  {
   "cell_type": "code",
   "execution_count": 3,
   "metadata": {},
   "outputs": [
    {
     "data": {
      "text/plain": [
       "['.ipynb_checkpoints',\n",
       " 'Homework15_BasicStat.ipynb',\n",
       " 'horse_data.csv',\n",
       " 'horse_data.names',\n",
       " 'stat_basics.ipynb']"
      ]
     },
     "execution_count": 3,
     "metadata": {},
     "output_type": "execute_result"
    }
   ],
   "source": [
    "import os\n",
    "from os import listdir\n",
    "os.listdir() \n"
   ]
  },
  {
   "cell_type": "code",
   "execution_count": 4,
   "metadata": {},
   "outputs": [
    {
     "name": "stdout",
     "output_type": "stream",
     "text": [
      "1. TItle: Horse Colic database\n",
      "\n",
      "2. Source Information\n",
      "   -- Creators: Mary McLeish & Matt Cecile\n",
      "\t  \tDepartment of Computer Science\n",
      "\t\tUniversity of Guelph\n",
      "\t\tGuelph, Ontario, Canada N1G 2W1\n",
      "\t\tmdmcleish@water.waterloo.edu\n",
      "   -- Donor:    Will Taylor (taylor@pluto.arc.nasa.gov)\n",
      "   -- Date:     8/6/89\n",
      "\n",
      "3. Past Usage:\n",
      "   -- Unknown\n",
      "\n",
      "4. Relevant Information:\n",
      "\n",
      "   -- 2 data files\n",
      "      -- horse-colic.data: 300 training instances\n",
      "      -- horse-colic.test: 68 test instances\n",
      "   -- Possible class attributes: 24 (whether lesion is surgical)\n",
      "     -- others include: 23, 25, 26, and 27\n",
      "   -- Many Data types: (continuous, discrete, and nominal)\n",
      "\n",
      "5. Number of Instances: 368 (300 for training, 68 for testing)\n",
      "\n",
      "6. Number of attributes: 28\n",
      "\n",
      "7. Attribute Information:\n",
      "\n",
      "  1:  surgery?\n",
      "          1 = Yes, it had surgery\n",
      "          2 = It was treated without surgery\n",
      "\n",
      "  2:  Age\n",
      "          1 = Adult horse\n",
      "          2 = Young (< 6 months)\n",
      "\n",
      "  3:  Hospital Number\n",
      "          - numeric id\n",
      "          - the case number assigned to the horse\n",
      "            (may not be unique if the horse is treated > 1 time)\n",
      "\n",
      "  4:  rectal temperature\n",
      "          - linear\n",
      "          - in degrees celsius.\n",
      "          - An elevated temp may occur due to infection.\n",
      "          - temperature may be reduced when the animal is in late shock\n",
      "          - normal temp is 37.8\n",
      "          - this parameter will usually change as the problem progresses\n",
      "               eg. may start out normal, then become elevated because of\n",
      "                   the lesion, passing back through the normal range as the\n",
      "                   horse goes into shock\n",
      "  5:  pulse\n",
      "          - linear\n",
      "          - the heart rate in beats per minute\n",
      "          - is a reflection of the heart condition: 30 -40 is normal for adults\n",
      "          - rare to have a lower than normal rate although athletic horses\n",
      "            may have a rate of 20-25\n",
      "          - animals with painful lesions or suffering from circulatory shock\n",
      "            may have an elevated heart rate\n",
      "\n",
      "  6:  respiratory rate\n",
      "          - linear\n",
      "          - normal rate is 8 to 10\n",
      "          - usefulness is doubtful due to the great fluctuations\n",
      "\n",
      "  7:  temperature of extremities\n",
      "          - a subjective indication of peripheral circulation\n",
      "          - possible values:\n",
      "               1 = Normal\n",
      "               2 = Warm\n",
      "               3 = Cool\n",
      "               4 = Cold\n",
      "          - cool to cold extremities indicate possible shock\n",
      "          - hot extremities should correlate with an elevated rectal temp.\n",
      "\n",
      "  8:  peripheral pulse\n",
      "          - subjective\n",
      "          - possible values are:\n",
      "               1 = normal\n",
      "               2 = increased\n",
      "               3 = reduced\n",
      "               4 = absent\n",
      "          - normal or increased p.p. are indicative of adequate circulation\n",
      "            while reduced or absent indicate poor perfusion\n",
      "\n",
      "  9:  mucous membranes\n",
      "          - a subjective measurement of colour\n",
      "          - possible values are:\n",
      "               1 = normal pink\n",
      "               2 = bright pink\n",
      "               3 = pale pink\n",
      "               4 = pale cyanotic\n",
      "               5 = bright red / injected\n",
      "               6 = dark cyanotic\n",
      "          - 1 and 2 probably indicate a normal or slightly increased\n",
      "            circulation\n",
      "          - 3 may occur in early shock\n",
      "          - 4 and 6 are indicative of serious circulatory compromise\n",
      "          - 5 is more indicative of a septicemia\n",
      "\n",
      " 10: capillary refill time\n",
      "          - a clinical judgement. The longer the refill, the poorer the\n",
      "            circulation\n",
      "          - possible values\n",
      "               1 = < 3 seconds\n",
      "               2 = >= 3 seconds\n",
      "\n",
      " 11: pain - a subjective judgement of the horse's pain level\n",
      "          - possible values:\n",
      "               1 = alert, no pain\n",
      "               2 = depressed\n",
      "               3 = intermittent mild pain\n",
      "               4 = intermittent severe pain\n",
      "               5 = continuous severe pain\n",
      "          - should NOT be treated as a ordered or discrete variable!\n",
      "          - In general, the more painful, the more likely it is to require\n",
      "            surgery\n",
      "          - prior treatment of pain may mask the pain level to some extent\n",
      "\n",
      " 12: peristalsis\n",
      "          - an indication of the activity in the horse's gut. As the gut\n",
      "            becomes more distended or the horse becomes more toxic, the\n",
      "            activity decreases\n",
      "          - possible values:\n",
      "               1 = hypermotile\n",
      "               2 = normal\n",
      "               3 = hypomotile\n",
      "               4 = absent\n",
      "\n",
      " 13: abdominal distension\n",
      "          - An IMPORTANT parameter.\n",
      "          - possible values\n",
      "               1 = none\n",
      "               2 = slight\n",
      "               3 = moderate\n",
      "               4 = severe\n",
      "          - an animal with abdominal distension is likely to be painful and\n",
      "            have reduced gut motility.\n",
      "          - a horse with severe abdominal distension is likely to require\n",
      "            surgery just tio relieve the pressure\n",
      "\n",
      " 14: nasogastric tube\n",
      "          - this refers to any gas coming out of the tube\n",
      "          - possible values:\n",
      "               1 = none\n",
      "               2 = slight\n",
      "               3 = significant\n",
      "          - a large gas cap in the stomach is likely to give the horse\n",
      "            discomfort\n",
      "\n",
      " 15: nasogastric reflux\n",
      "          - possible values\n",
      "               1 = none\n",
      "               2 = > 1 liter\n",
      "               3 = < 1 liter\n",
      "          - the greater amount of reflux, the more likelihood that there is\n",
      "            some serious obstruction to the fluid passage from the rest of\n",
      "            the intestine\n",
      "\n",
      " 16: nasogastric reflux PH\n",
      "          - linear\n",
      "          - scale is from 0 to 14 with 7 being neutral\n",
      "          - normal values are in the 3 to 4 range\n",
      "\n",
      " 17: rectal examination - feces\n",
      "          - possible values\n",
      "               1 = normal\n",
      "               2 = increased\n",
      "               3 = decreased\n",
      "               4 = absent\n",
      "          - absent feces probably indicates an obstruction\n",
      "\n",
      " 18: abdomen\n",
      "          - possible values\n",
      "               1 = normal\n",
      "               2 = other\n",
      "               3 = firm feces in the large intestine\n",
      "               4 = distended small intestine\n",
      "               5 = distended large intestine\n",
      "          - 3 is probably an obstruction caused by a mechanical impaction\n",
      "            and is normally treated medically\n",
      "          - 4 and 5 indicate a surgical lesion\n",
      "\n",
      " 19: packed cell volume\n",
      "          - linear\n",
      "          - the # of red cells by volume in the blood\n",
      "          - normal range is 30 to 50. The level rises as the circulation\n",
      "            becomes compromised or as the animal becomes dehydrated.\n",
      "\n",
      " 20: total protein\n",
      "          - linear\n",
      "          - normal values lie in the 6-7.5 (gms/dL) range\n",
      "          - the higher the value the greater the dehydration\n",
      "\n",
      " 21: abdominocentesis appearance\n",
      "          - a needle is put in the horse's abdomen and fluid is obtained from\n",
      "            the abdominal cavity\n",
      "          - possible values:\n",
      "               1 = clear\n",
      "               2 = cloudy\n",
      "               3 = serosanguinous\n",
      "          - normal fluid is clear while cloudy or serosanguinous indicates\n",
      "            a compromised gut\n",
      "\n",
      " 22: abdomcentesis total protein\n",
      "          - linear\n",
      "          - the higher the level of protein the more likely it is to have a\n",
      "            compromised gut. Values are in gms/dL\n",
      "\n",
      " 23: outcome\n",
      "          - what eventually happened to the horse?\n",
      "          - possible values:\n",
      "               1 = lived\n",
      "               2 = died\n",
      "               3 = was euthanized\n",
      "\n",
      " 24: surgical lesion?\n",
      "          - retrospectively, was the problem (lesion) surgical?\n",
      "          - all cases are either operated upon or autopsied so that\n",
      "            this value and the lesion type are always known\n",
      "          - possible values:\n",
      "               1 = Yes\n",
      "               2 = No\n",
      "\n",
      " 25, 26, 27: type of lesion\n",
      "          - first number is site of lesion\n",
      "               1 = gastric\n",
      "               2 = sm intestine\n",
      "               3 = lg colon\n",
      "               4 = lg colon and cecum\n",
      "               5 = cecum\n",
      "               6 = transverse colon\n",
      "               7 = retum/descending colon\n",
      "               8 = uterus\n",
      "               9 = bladder\n",
      "               11 = all intestinal sites\n",
      "               00 = none\n",
      "          - second number is type\n",
      "               1 = simple\n",
      "               2 = strangulation\n",
      "               3 = inflammation\n",
      "               4 = other\n",
      "          - third number is subtype\n",
      "               1 = mechanical\n",
      "               2 = paralytic\n",
      "               0 = n/a\n",
      "          - fourth number is specific code\n",
      "               1 = obturation\n",
      "               2 = intrinsic\n",
      "               3 = extrinsic\n",
      "               4 = adynamic\n",
      "               5 = volvulus/torsion\n",
      "               6 = intussuption\n",
      "               7 = thromboembolic\n",
      "               8 = hernia\n",
      "               9 = lipoma/slenic incarceration\n",
      "               10 = displacement\n",
      "               0 = n/a\n",
      " 28: cp_data\n",
      "          - is pathology data present for this case?\n",
      "               1 = Yes\n",
      "               2 = No\n",
      "          - this variable is of no significance since pathology data\n",
      "            is not included or collected for these cases\n",
      "\n",
      "8. Missing values: 30% of the values are missing\n"
     ]
    }
   ],
   "source": [
    "with open(\"horse_data.names\") as f:\n",
    "    print(f.read())"
   ]
  },
  {
   "cell_type": "code",
   "execution_count": 5,
   "metadata": {},
   "outputs": [],
   "source": [
    "#pain_ctg: should NOT be treated as a ordered or discrete variable\n",
    "\n",
    "#переименовываем колонки\n",
    "\n",
    "horse_data.columns = ['surgery_flg', 'age_flg', 'horse_id', 'rect_temp', 'pulse', \n",
    "                      'respir_rate', 'extr_temp_ctg','pulse_periph_ctg', 'colour_muc_ctg', 'time_capil_refil_flg',\n",
    "                      'pain_ctg', 'perist_ctg' , 'distension_ctg', 'gas_ctg', 'reflux_ctg', \n",
    "                      'reflux_ph', 'fecal_ctg', 'abdomen_ctg', 'red_cells_volume', 'protein',\n",
    "                      'abd_fluid_ctg', 'abd_protein', 'outcome', 'lesion_flg', 'les_type1',\n",
    "                      'les_type2', 'les_type3', 'path_data_flg']\n",
    "                      \n",
    "                      "
   ]
  },
  {
   "cell_type": "code",
   "execution_count": 6,
   "metadata": {},
   "outputs": [
    {
     "data": {
      "text/html": [
       "<div>\n",
       "<style scoped>\n",
       "    .dataframe tbody tr th:only-of-type {\n",
       "        vertical-align: middle;\n",
       "    }\n",
       "\n",
       "    .dataframe tbody tr th {\n",
       "        vertical-align: top;\n",
       "    }\n",
       "\n",
       "    .dataframe thead th {\n",
       "        text-align: right;\n",
       "    }\n",
       "</style>\n",
       "<table border=\"1\" class=\"dataframe\">\n",
       "  <thead>\n",
       "    <tr style=\"text-align: right;\">\n",
       "      <th></th>\n",
       "      <th>surgery_flg</th>\n",
       "      <th>age_flg</th>\n",
       "      <th>horse_id</th>\n",
       "      <th>rect_temp</th>\n",
       "      <th>pulse</th>\n",
       "      <th>respir_rate</th>\n",
       "      <th>extr_temp_ctg</th>\n",
       "      <th>pulse_periph_ctg</th>\n",
       "      <th>colour_muc_ctg</th>\n",
       "      <th>time_capil_refil_flg</th>\n",
       "      <th>...</th>\n",
       "      <th>red_cells_volume</th>\n",
       "      <th>protein</th>\n",
       "      <th>abd_fluid_ctg</th>\n",
       "      <th>abd_protein</th>\n",
       "      <th>outcome</th>\n",
       "      <th>lesion_flg</th>\n",
       "      <th>les_type1</th>\n",
       "      <th>les_type2</th>\n",
       "      <th>les_type3</th>\n",
       "      <th>path_data_flg</th>\n",
       "    </tr>\n",
       "  </thead>\n",
       "  <tbody>\n",
       "    <tr>\n",
       "      <th>0</th>\n",
       "      <td>2.0</td>\n",
       "      <td>1</td>\n",
       "      <td>530101</td>\n",
       "      <td>38.5</td>\n",
       "      <td>66.0</td>\n",
       "      <td>28.0</td>\n",
       "      <td>3.0</td>\n",
       "      <td>3.0</td>\n",
       "      <td>NaN</td>\n",
       "      <td>2.0</td>\n",
       "      <td>...</td>\n",
       "      <td>45.0</td>\n",
       "      <td>8.4</td>\n",
       "      <td>NaN</td>\n",
       "      <td>NaN</td>\n",
       "      <td>2.0</td>\n",
       "      <td>2</td>\n",
       "      <td>11300</td>\n",
       "      <td>0</td>\n",
       "      <td>0</td>\n",
       "      <td>2</td>\n",
       "    </tr>\n",
       "    <tr>\n",
       "      <th>1</th>\n",
       "      <td>1.0</td>\n",
       "      <td>1</td>\n",
       "      <td>534817</td>\n",
       "      <td>39.2</td>\n",
       "      <td>88.0</td>\n",
       "      <td>20.0</td>\n",
       "      <td>NaN</td>\n",
       "      <td>NaN</td>\n",
       "      <td>4.0</td>\n",
       "      <td>1.0</td>\n",
       "      <td>...</td>\n",
       "      <td>50.0</td>\n",
       "      <td>85.0</td>\n",
       "      <td>2.0</td>\n",
       "      <td>2.0</td>\n",
       "      <td>3.0</td>\n",
       "      <td>2</td>\n",
       "      <td>2208</td>\n",
       "      <td>0</td>\n",
       "      <td>0</td>\n",
       "      <td>2</td>\n",
       "    </tr>\n",
       "    <tr>\n",
       "      <th>2</th>\n",
       "      <td>2.0</td>\n",
       "      <td>1</td>\n",
       "      <td>530334</td>\n",
       "      <td>38.3</td>\n",
       "      <td>40.0</td>\n",
       "      <td>24.0</td>\n",
       "      <td>1.0</td>\n",
       "      <td>1.0</td>\n",
       "      <td>3.0</td>\n",
       "      <td>1.0</td>\n",
       "      <td>...</td>\n",
       "      <td>33.0</td>\n",
       "      <td>6.7</td>\n",
       "      <td>NaN</td>\n",
       "      <td>NaN</td>\n",
       "      <td>1.0</td>\n",
       "      <td>2</td>\n",
       "      <td>0</td>\n",
       "      <td>0</td>\n",
       "      <td>0</td>\n",
       "      <td>1</td>\n",
       "    </tr>\n",
       "    <tr>\n",
       "      <th>3</th>\n",
       "      <td>1.0</td>\n",
       "      <td>9</td>\n",
       "      <td>5290409</td>\n",
       "      <td>39.1</td>\n",
       "      <td>164.0</td>\n",
       "      <td>84.0</td>\n",
       "      <td>4.0</td>\n",
       "      <td>1.0</td>\n",
       "      <td>6.0</td>\n",
       "      <td>2.0</td>\n",
       "      <td>...</td>\n",
       "      <td>48.0</td>\n",
       "      <td>7.2</td>\n",
       "      <td>3.0</td>\n",
       "      <td>5.3</td>\n",
       "      <td>2.0</td>\n",
       "      <td>1</td>\n",
       "      <td>2208</td>\n",
       "      <td>0</td>\n",
       "      <td>0</td>\n",
       "      <td>1</td>\n",
       "    </tr>\n",
       "    <tr>\n",
       "      <th>4</th>\n",
       "      <td>2.0</td>\n",
       "      <td>1</td>\n",
       "      <td>530255</td>\n",
       "      <td>37.3</td>\n",
       "      <td>104.0</td>\n",
       "      <td>35.0</td>\n",
       "      <td>NaN</td>\n",
       "      <td>NaN</td>\n",
       "      <td>6.0</td>\n",
       "      <td>2.0</td>\n",
       "      <td>...</td>\n",
       "      <td>74.0</td>\n",
       "      <td>7.4</td>\n",
       "      <td>NaN</td>\n",
       "      <td>NaN</td>\n",
       "      <td>2.0</td>\n",
       "      <td>2</td>\n",
       "      <td>4300</td>\n",
       "      <td>0</td>\n",
       "      <td>0</td>\n",
       "      <td>2</td>\n",
       "    </tr>\n",
       "  </tbody>\n",
       "</table>\n",
       "<p>5 rows × 28 columns</p>\n",
       "</div>"
      ],
      "text/plain": [
       "   surgery_flg  age_flg  horse_id  rect_temp  pulse  respir_rate  \\\n",
       "0          2.0        1    530101       38.5   66.0         28.0   \n",
       "1          1.0        1    534817       39.2   88.0         20.0   \n",
       "2          2.0        1    530334       38.3   40.0         24.0   \n",
       "3          1.0        9   5290409       39.1  164.0         84.0   \n",
       "4          2.0        1    530255       37.3  104.0         35.0   \n",
       "\n",
       "   extr_temp_ctg  pulse_periph_ctg  colour_muc_ctg  time_capil_refil_flg  ...  \\\n",
       "0            3.0               3.0             NaN                   2.0  ...   \n",
       "1            NaN               NaN             4.0                   1.0  ...   \n",
       "2            1.0               1.0             3.0                   1.0  ...   \n",
       "3            4.0               1.0             6.0                   2.0  ...   \n",
       "4            NaN               NaN             6.0                   2.0  ...   \n",
       "\n",
       "   red_cells_volume  protein  abd_fluid_ctg  abd_protein  outcome  lesion_flg  \\\n",
       "0              45.0      8.4            NaN          NaN      2.0           2   \n",
       "1              50.0     85.0            2.0          2.0      3.0           2   \n",
       "2              33.0      6.7            NaN          NaN      1.0           2   \n",
       "3              48.0      7.2            3.0          5.3      2.0           1   \n",
       "4              74.0      7.4            NaN          NaN      2.0           2   \n",
       "\n",
       "   les_type1  les_type2  les_type3  path_data_flg  \n",
       "0      11300          0          0              2  \n",
       "1       2208          0          0              2  \n",
       "2          0          0          0              1  \n",
       "3       2208          0          0              1  \n",
       "4       4300          0          0              2  \n",
       "\n",
       "[5 rows x 28 columns]"
      ]
     },
     "execution_count": 6,
     "metadata": {},
     "output_type": "execute_result"
    }
   ],
   "source": [
    "horse_data.head()"
   ]
  },
  {
   "cell_type": "code",
   "execution_count": 7,
   "metadata": {},
   "outputs": [
    {
     "name": "stdout",
     "output_type": "stream",
     "text": [
      "<class 'pandas.core.frame.DataFrame'>\n",
      "RangeIndex: 300 entries, 0 to 299\n",
      "Data columns (total 28 columns):\n",
      " #   Column                Non-Null Count  Dtype  \n",
      "---  ------                --------------  -----  \n",
      " 0   surgery_flg           299 non-null    float64\n",
      " 1   age_flg               300 non-null    int64  \n",
      " 2   horse_id              300 non-null    int64  \n",
      " 3   rect_temp             240 non-null    float64\n",
      " 4   pulse                 276 non-null    float64\n",
      " 5   respir_rate           242 non-null    float64\n",
      " 6   extr_temp_ctg         244 non-null    float64\n",
      " 7   pulse_periph_ctg      231 non-null    float64\n",
      " 8   colour_muc_ctg        253 non-null    float64\n",
      " 9   time_capil_refil_flg  268 non-null    float64\n",
      " 10  pain_ctg              245 non-null    float64\n",
      " 11  perist_ctg            256 non-null    float64\n",
      " 12  distension_ctg        244 non-null    float64\n",
      " 13  gas_ctg               196 non-null    float64\n",
      " 14  reflux_ctg            194 non-null    float64\n",
      " 15  reflux_ph             53 non-null     float64\n",
      " 16  fecal_ctg             198 non-null    float64\n",
      " 17  abdomen_ctg           182 non-null    float64\n",
      " 18  red_cells_volume      271 non-null    float64\n",
      " 19  protein               267 non-null    float64\n",
      " 20  abd_fluid_ctg         135 non-null    float64\n",
      " 21  abd_protein           102 non-null    float64\n",
      " 22  outcome               299 non-null    float64\n",
      " 23  lesion_flg            300 non-null    int64  \n",
      " 24  les_type1             300 non-null    int64  \n",
      " 25  les_type2             300 non-null    int64  \n",
      " 26  les_type3             300 non-null    int64  \n",
      " 27  path_data_flg         300 non-null    int64  \n",
      "dtypes: float64(21), int64(7)\n",
      "memory usage: 65.8 KB\n"
     ]
    }
   ],
   "source": [
    "horse_data.info()"
   ]
  },
  {
   "cell_type": "code",
   "execution_count": 8,
   "metadata": {},
   "outputs": [],
   "source": [
    "#4 числовые переменные для анализа\n",
    "#reflux_ph: scale is from 0 to 14 with 7 being neutral. normal values 3 - 4\n",
    "#red_cells_volume:the # of red cells by volume in the blood normal range is 30 to 50.\n",
    "#protein: normal values lie in the 6-7.5 (gms/dL) range\n",
    "#pulse: the heart rate in beats per minute 30 -40 is normal for adults. athletic horses may have 20-25\n",
    "\n",
    "#4 категориальные переменные для анализа\n",
    "#distension_ctg: An IMPORTANT parameter. possible values 1 = none 2 = slight 3 = moderate  4 = severe\n",
    "#abd_fluid_ctg: possible values:1 = clear 2 = cloudy   3 = serosanguinous - normal fluid is clear \n",
    "#outcome: result 1 = lived  2 = died   3 = was euthanized\n",
    "#age_flg: 1 = Adult horse  2 = Young (< 6 months)\n",
    "\n",
    "horse_data_small = horse_data[['reflux_ph', 'red_cells_volume', 'protein', 'pulse', \n",
    "                              'distension_ctg', 'abd_fluid_ctg', 'outcome', 'age_flg']]"
   ]
  },
  {
   "cell_type": "code",
   "execution_count": 9,
   "metadata": {
    "scrolled": true
   },
   "outputs": [
    {
     "data": {
      "text/html": [
       "<div>\n",
       "<style scoped>\n",
       "    .dataframe tbody tr th:only-of-type {\n",
       "        vertical-align: middle;\n",
       "    }\n",
       "\n",
       "    .dataframe tbody tr th {\n",
       "        vertical-align: top;\n",
       "    }\n",
       "\n",
       "    .dataframe thead th {\n",
       "        text-align: right;\n",
       "    }\n",
       "</style>\n",
       "<table border=\"1\" class=\"dataframe\">\n",
       "  <thead>\n",
       "    <tr style=\"text-align: right;\">\n",
       "      <th></th>\n",
       "      <th>reflux_ph</th>\n",
       "      <th>red_cells_volume</th>\n",
       "      <th>protein</th>\n",
       "      <th>pulse</th>\n",
       "      <th>distension_ctg</th>\n",
       "      <th>abd_fluid_ctg</th>\n",
       "      <th>outcome</th>\n",
       "      <th>age_flg</th>\n",
       "    </tr>\n",
       "  </thead>\n",
       "  <tbody>\n",
       "    <tr>\n",
       "      <th>0</th>\n",
       "      <td>NaN</td>\n",
       "      <td>45.0</td>\n",
       "      <td>8.4</td>\n",
       "      <td>66.0</td>\n",
       "      <td>4.0</td>\n",
       "      <td>NaN</td>\n",
       "      <td>2.0</td>\n",
       "      <td>1</td>\n",
       "    </tr>\n",
       "    <tr>\n",
       "      <th>1</th>\n",
       "      <td>NaN</td>\n",
       "      <td>50.0</td>\n",
       "      <td>85.0</td>\n",
       "      <td>88.0</td>\n",
       "      <td>2.0</td>\n",
       "      <td>2.0</td>\n",
       "      <td>3.0</td>\n",
       "      <td>1</td>\n",
       "    </tr>\n",
       "    <tr>\n",
       "      <th>2</th>\n",
       "      <td>NaN</td>\n",
       "      <td>33.0</td>\n",
       "      <td>6.7</td>\n",
       "      <td>40.0</td>\n",
       "      <td>1.0</td>\n",
       "      <td>NaN</td>\n",
       "      <td>1.0</td>\n",
       "      <td>1</td>\n",
       "    </tr>\n",
       "    <tr>\n",
       "      <th>3</th>\n",
       "      <td>5.0</td>\n",
       "      <td>48.0</td>\n",
       "      <td>7.2</td>\n",
       "      <td>164.0</td>\n",
       "      <td>4.0</td>\n",
       "      <td>3.0</td>\n",
       "      <td>2.0</td>\n",
       "      <td>9</td>\n",
       "    </tr>\n",
       "    <tr>\n",
       "      <th>4</th>\n",
       "      <td>NaN</td>\n",
       "      <td>74.0</td>\n",
       "      <td>7.4</td>\n",
       "      <td>104.0</td>\n",
       "      <td>NaN</td>\n",
       "      <td>NaN</td>\n",
       "      <td>2.0</td>\n",
       "      <td>1</td>\n",
       "    </tr>\n",
       "  </tbody>\n",
       "</table>\n",
       "</div>"
      ],
      "text/plain": [
       "   reflux_ph  red_cells_volume  protein  pulse  distension_ctg  abd_fluid_ctg  \\\n",
       "0        NaN              45.0      8.4   66.0             4.0            NaN   \n",
       "1        NaN              50.0     85.0   88.0             2.0            2.0   \n",
       "2        NaN              33.0      6.7   40.0             1.0            NaN   \n",
       "3        5.0              48.0      7.2  164.0             4.0            3.0   \n",
       "4        NaN              74.0      7.4  104.0             NaN            NaN   \n",
       "\n",
       "   outcome  age_flg  \n",
       "0      2.0        1  \n",
       "1      3.0        1  \n",
       "2      1.0        1  \n",
       "3      2.0        9  \n",
       "4      2.0        1  "
      ]
     },
     "execution_count": 9,
     "metadata": {},
     "output_type": "execute_result"
    }
   ],
   "source": [
    "horse_data_small.head()"
   ]
  },
  {
   "cell_type": "code",
   "execution_count": 10,
   "metadata": {},
   "outputs": [
    {
     "name": "stdout",
     "output_type": "stream",
     "text": [
      "<class 'pandas.core.frame.DataFrame'>\n",
      "RangeIndex: 300 entries, 0 to 299\n",
      "Data columns (total 8 columns):\n",
      " #   Column            Non-Null Count  Dtype  \n",
      "---  ------            --------------  -----  \n",
      " 0   reflux_ph         53 non-null     float64\n",
      " 1   red_cells_volume  271 non-null    float64\n",
      " 2   protein           267 non-null    float64\n",
      " 3   pulse             276 non-null    float64\n",
      " 4   distension_ctg    244 non-null    float64\n",
      " 5   abd_fluid_ctg     135 non-null    float64\n",
      " 6   outcome           299 non-null    float64\n",
      " 7   age_flg           300 non-null    int64  \n",
      "dtypes: float64(7), int64(1)\n",
      "memory usage: 18.9 KB\n"
     ]
    }
   ],
   "source": [
    "horse_data_small.info()"
   ]
  },
  {
   "cell_type": "code",
   "execution_count": 11,
   "metadata": {},
   "outputs": [
    {
     "data": {
      "text/html": [
       "<div>\n",
       "<style scoped>\n",
       "    .dataframe tbody tr th:only-of-type {\n",
       "        vertical-align: middle;\n",
       "    }\n",
       "\n",
       "    .dataframe tbody tr th {\n",
       "        vertical-align: top;\n",
       "    }\n",
       "\n",
       "    .dataframe thead th {\n",
       "        text-align: right;\n",
       "    }\n",
       "</style>\n",
       "<table border=\"1\" class=\"dataframe\">\n",
       "  <thead>\n",
       "    <tr style=\"text-align: right;\">\n",
       "      <th></th>\n",
       "      <th>reflux_ph</th>\n",
       "      <th>red_cells_volume</th>\n",
       "      <th>protein</th>\n",
       "      <th>pulse</th>\n",
       "      <th>distension_ctg</th>\n",
       "      <th>abd_fluid_ctg</th>\n",
       "      <th>outcome</th>\n",
       "      <th>age_flg</th>\n",
       "    </tr>\n",
       "  </thead>\n",
       "  <tbody>\n",
       "    <tr>\n",
       "      <th>count</th>\n",
       "      <td>53.000000</td>\n",
       "      <td>271.000000</td>\n",
       "      <td>267.000000</td>\n",
       "      <td>276.000000</td>\n",
       "      <td>244.000000</td>\n",
       "      <td>135.000000</td>\n",
       "      <td>299.000000</td>\n",
       "      <td>300.000000</td>\n",
       "    </tr>\n",
       "    <tr>\n",
       "      <th>mean</th>\n",
       "      <td>4.707547</td>\n",
       "      <td>46.295203</td>\n",
       "      <td>24.456929</td>\n",
       "      <td>71.913043</td>\n",
       "      <td>2.266393</td>\n",
       "      <td>2.037037</td>\n",
       "      <td>1.551839</td>\n",
       "      <td>1.640000</td>\n",
       "    </tr>\n",
       "    <tr>\n",
       "      <th>std</th>\n",
       "      <td>1.982311</td>\n",
       "      <td>10.419335</td>\n",
       "      <td>27.475009</td>\n",
       "      <td>28.630557</td>\n",
       "      <td>1.065131</td>\n",
       "      <td>0.804905</td>\n",
       "      <td>0.737187</td>\n",
       "      <td>2.173972</td>\n",
       "    </tr>\n",
       "    <tr>\n",
       "      <th>min</th>\n",
       "      <td>1.000000</td>\n",
       "      <td>23.000000</td>\n",
       "      <td>3.300000</td>\n",
       "      <td>30.000000</td>\n",
       "      <td>1.000000</td>\n",
       "      <td>1.000000</td>\n",
       "      <td>1.000000</td>\n",
       "      <td>1.000000</td>\n",
       "    </tr>\n",
       "    <tr>\n",
       "      <th>25%</th>\n",
       "      <td>3.000000</td>\n",
       "      <td>38.000000</td>\n",
       "      <td>6.500000</td>\n",
       "      <td>48.000000</td>\n",
       "      <td>1.000000</td>\n",
       "      <td>1.000000</td>\n",
       "      <td>1.000000</td>\n",
       "      <td>1.000000</td>\n",
       "    </tr>\n",
       "    <tr>\n",
       "      <th>50%</th>\n",
       "      <td>5.000000</td>\n",
       "      <td>45.000000</td>\n",
       "      <td>7.500000</td>\n",
       "      <td>64.000000</td>\n",
       "      <td>2.000000</td>\n",
       "      <td>2.000000</td>\n",
       "      <td>1.000000</td>\n",
       "      <td>1.000000</td>\n",
       "    </tr>\n",
       "    <tr>\n",
       "      <th>75%</th>\n",
       "      <td>6.500000</td>\n",
       "      <td>52.000000</td>\n",
       "      <td>57.000000</td>\n",
       "      <td>88.000000</td>\n",
       "      <td>3.000000</td>\n",
       "      <td>3.000000</td>\n",
       "      <td>2.000000</td>\n",
       "      <td>1.000000</td>\n",
       "    </tr>\n",
       "    <tr>\n",
       "      <th>max</th>\n",
       "      <td>7.500000</td>\n",
       "      <td>75.000000</td>\n",
       "      <td>89.000000</td>\n",
       "      <td>184.000000</td>\n",
       "      <td>4.000000</td>\n",
       "      <td>3.000000</td>\n",
       "      <td>3.000000</td>\n",
       "      <td>9.000000</td>\n",
       "    </tr>\n",
       "  </tbody>\n",
       "</table>\n",
       "</div>"
      ],
      "text/plain": [
       "       reflux_ph  red_cells_volume     protein       pulse  distension_ctg  \\\n",
       "count  53.000000        271.000000  267.000000  276.000000      244.000000   \n",
       "mean    4.707547         46.295203   24.456929   71.913043        2.266393   \n",
       "std     1.982311         10.419335   27.475009   28.630557        1.065131   \n",
       "min     1.000000         23.000000    3.300000   30.000000        1.000000   \n",
       "25%     3.000000         38.000000    6.500000   48.000000        1.000000   \n",
       "50%     5.000000         45.000000    7.500000   64.000000        2.000000   \n",
       "75%     6.500000         52.000000   57.000000   88.000000        3.000000   \n",
       "max     7.500000         75.000000   89.000000  184.000000        4.000000   \n",
       "\n",
       "       abd_fluid_ctg     outcome     age_flg  \n",
       "count     135.000000  299.000000  300.000000  \n",
       "mean        2.037037    1.551839    1.640000  \n",
       "std         0.804905    0.737187    2.173972  \n",
       "min         1.000000    1.000000    1.000000  \n",
       "25%         1.000000    1.000000    1.000000  \n",
       "50%         2.000000    1.000000    1.000000  \n",
       "75%         3.000000    2.000000    1.000000  \n",
       "max         3.000000    3.000000    9.000000  "
      ]
     },
     "execution_count": 11,
     "metadata": {},
     "output_type": "execute_result"
    }
   ],
   "source": [
    "#Базовые метрики\n",
    "\"\"\"\n",
    "reflux_ph. Среднее=4.707547. Нормальные значение 3-4, среднее сдвинуто в сторону более высоких значений. \n",
    "Разброс от 1 до 7.5 , это укладывается в диапазон шкалы от 0 до 14. Экстремальных выбросов нет\n",
    "\n",
    "red_cells_volume. Среднее=46.295203. Нормальные значения 30-50. Среднее укладывается в диапазон нормальных значений\n",
    "Разброс от 23 до 75. Экстремальных выбросов нет\n",
    "\n",
    "protein. Среднее=24.456929. Нормальные значения 6-7.5 . Разброс от 3,3 до 89.  Очень большой разброс. Среднее сильно выше \n",
    "нормальных показателей. Возможно наличие выбросов, либо причина в том что это показатель болезни\n",
    "\n",
    "pulse. Среднее=71.913043. Нормальные значения 30-40. Разброс от 30 до 184. Среднее в 2 раза выше \n",
    "нормальных показателей. Нет значений ниже 30, которые характеризуют спортивную лошадь\n",
    "\n",
    "distension_ctg. Среднее=2.266393. Разброс от 1 до 4, шкала 1,2,3,4. Экстремальных выбросов вне шкалы нет\n",
    "\n",
    "abd_fluid_ctg. Среднее=2.037037. Разброс от 1 до 3, шкала 1,2,3. Экстремальных выбросов вне шкалы нет\n",
    "\n",
    "outcome. Среднее=1.551839. Разброс от 1 до 3, шкала 1,2,3. Экстремальных выбросов вне шкалы нет\n",
    "\n",
    "age_flg. Среднее=1.640000. Разброс от 1 до 9, шкала 1,2. Есть выбросы вне шкалы (9 = недопусимое значение)\n",
    "\"\"\"\n",
    "\n",
    "horse_data_small.describe()"
   ]
  },
  {
   "cell_type": "code",
   "execution_count": 12,
   "metadata": {},
   "outputs": [
    {
     "data": {
      "text/plain": [
       "'Задание 2. Работа с выбросами\\nВ выбранных числовых столбцах найти выбросы, выдвинуть гипотезы об их причинах и проинтерпретировать результаты. \\nПринять и обосновать решение о дальнейшей работе с ними.\\n'"
      ]
     },
     "execution_count": 12,
     "metadata": {},
     "output_type": "execute_result"
    }
   ],
   "source": [
    "\"\"\"Задание 2. Работа с выбросами\n",
    "В выбранных числовых столбцах найти выбросы, выдвинуть гипотезы об их причинах и проинтерпретировать результаты. \n",
    "Принять и обосновать решение о дальнейшей работе с ними.\n",
    "\"\"\""
   ]
  },
  {
   "cell_type": "markdown",
   "metadata": {},
   "source": [
    "# Шаг 1: проверка категориальных переменных"
   ]
  },
  {
   "cell_type": "code",
   "execution_count": 21,
   "metadata": {},
   "outputs": [
    {
     "data": {
      "text/plain": [
       "1    276\n",
       "9     24\n",
       "Name: age_flg, dtype: int64"
      ]
     },
     "execution_count": 21,
     "metadata": {},
     "output_type": "execute_result"
    }
   ],
   "source": [
    "#Допустимые значения: 1, 2\n",
    "#Есть выброс - значение 9. Возможно вместо значения 2 ставилось 9. Либо значения полностью некорректные.\n",
    "horse_data_small['age_flg'].value_counts()"
   ]
  },
  {
   "cell_type": "code",
   "execution_count": 22,
   "metadata": {},
   "outputs": [
    {
     "data": {
      "text/plain": [
       "1.0    178\n",
       "2.0     77\n",
       "3.0     44\n",
       "Name: outcome, dtype: int64"
      ]
     },
     "execution_count": 22,
     "metadata": {},
     "output_type": "execute_result"
    }
   ],
   "source": [
    "#Допустимые значения: 1, 2, 3\n",
    "#Выбросов нет\n",
    "horse_data_small['outcome'].value_counts()"
   ]
  },
  {
   "cell_type": "code",
   "execution_count": 23,
   "metadata": {},
   "outputs": [
    {
     "data": {
      "text/plain": [
       "1.0    0.595318\n",
       "2.0    0.257525\n",
       "3.0    0.147157\n",
       "Name: outcome, dtype: float64"
      ]
     },
     "execution_count": 23,
     "metadata": {},
     "output_type": "execute_result"
    }
   ],
   "source": [
    "#доля выживших 60%\n",
    "horse_data_small['outcome'].value_counts(normalize=True)"
   ]
  },
  {
   "cell_type": "code",
   "execution_count": 24,
   "metadata": {},
   "outputs": [
    {
     "data": {
      "text/plain": [
       "2.0    48\n",
       "3.0    46\n",
       "1.0    41\n",
       "Name: abd_fluid_ctg, dtype: int64"
      ]
     },
     "execution_count": 24,
     "metadata": {},
     "output_type": "execute_result"
    }
   ],
   "source": [
    "#Допустимые значения: 1, 2, 3\n",
    "#Выбросов нет\n",
    "horse_data_small['abd_fluid_ctg'].value_counts()"
   ]
  },
  {
   "cell_type": "code",
   "execution_count": 25,
   "metadata": {},
   "outputs": [
    {
     "data": {
      "text/plain": [
       "1.0    76\n",
       "2.0    65\n",
       "3.0    65\n",
       "4.0    38\n",
       "Name: distension_ctg, dtype: int64"
      ]
     },
     "execution_count": 25,
     "metadata": {},
     "output_type": "execute_result"
    }
   ],
   "source": [
    "#Допустимые значения: 1, 2, 3, 4\n",
    "#Выбросов нет\n",
    "horse_data_small['distension_ctg'].value_counts()"
   ]
  },
  {
   "cell_type": "markdown",
   "metadata": {},
   "source": [
    "# Шаг 2: проверка числовых переменных"
   ]
  },
  {
   "cell_type": "code",
   "execution_count": 26,
   "metadata": {},
   "outputs": [
    {
     "data": {
      "text/plain": [
       "<matplotlib.axes._subplots.AxesSubplot at 0x2558fa53670>"
      ]
     },
     "execution_count": 26,
     "metadata": {},
     "output_type": "execute_result"
    },
    {
     "data": {
      "image/png": "[encoded data removed]",
      "text/plain": [
       "<Figure size 432x288 with 1 Axes>"
      ]
     },
     "metadata": {
      "needs_background": "light"
     },
     "output_type": "display_data"
    }
   ],
   "source": [
    "import matplotlib.pyplot as plt\n",
    "\n",
    "#переменная reflux_ph- нет выбросов\n",
    "horse_data_small['reflux_ph'].plot(kind='box')"
   ]
  },
  {
   "cell_type": "code",
   "execution_count": 60,
   "metadata": {
    "scrolled": true
   },
   "outputs": [
    {
     "data": {
      "text/plain": [
       "<matplotlib.axes._subplots.AxesSubplot at 0x21b527ee340>"
      ]
     },
     "execution_count": 60,
     "metadata": {},
     "output_type": "execute_result"
    },
    {
     "data": {
      "image/png": "[encoded data removed]",
      "text/plain": [
       "<Figure size 432x288 with 1 Axes>"
      ]
     },
     "metadata": {
      "needs_background": "light"
     },
     "output_type": "display_data"
    }
   ],
   "source": [
    "#переменная red_cells_volume - есть выбросы в верхних значениях\n",
    "horse_data_small['red_cells_volume'].plot(kind='box')"
   ]
  },
  {
   "cell_type": "code",
   "execution_count": 135,
   "metadata": {},
   "outputs": [
    {
     "name": "stdout",
     "output_type": "stream",
     "text": [
      "q1= 38.0\n",
      "q3= 52.0\n",
      "lower bound= 17.0\n",
      "upper bound= 73.0\n"
     ]
    }
   ],
   "source": [
    "q1 = horse_data_small['red_cells_volume'].quantile(0.25)\n",
    "q3 = horse_data_small['red_cells_volume'].quantile(0.75)\n",
    "iqr=q3 - q1\n",
    "lower_= q1 - 1.5*iqr\n",
    "upper_= q3 + 1.5*iqr\n",
    "print ('q1=', q1)\n",
    "print ('q3=', q3)\n",
    "print ('lower bound=', lower_)\n",
    "print ('upper bound=', upper_)"
   ]
  },
  {
   "cell_type": "code",
   "execution_count": 136,
   "metadata": {},
   "outputs": [
    {
     "data": {
      "text/plain": [
       "red_cells_volume\n",
       "23.0     1\n",
       "24.0     1\n",
       "26.0     1\n",
       "28.0     1\n",
       "30.0     1\n",
       "31.0     2\n",
       "31.5     1\n",
       "32.0     2\n",
       "33.0     8\n",
       "34.0     5\n",
       "35.0    10\n",
       "36.0    11\n",
       "37.0    16\n",
       "37.5     1\n",
       "38.0     9\n",
       "39.0     9\n",
       "40.0    12\n",
       "41.0     8\n",
       "42.0     8\n",
       "43.0    14\n",
       "44.0    13\n",
       "45.0    14\n",
       "46.0     9\n",
       "47.0    10\n",
       "48.0     9\n",
       "49.0     7\n",
       "50.0    16\n",
       "51.0     2\n",
       "52.0     6\n",
       "53.0     4\n",
       "54.0     6\n",
       "55.0     6\n",
       "56.0     2\n",
       "57.0     6\n",
       "58.0     2\n",
       "59.0     2\n",
       "60.0     8\n",
       "63.0     2\n",
       "64.0     4\n",
       "65.0     4\n",
       "66.0     3\n",
       "67.0     1\n",
       "68.0     4\n",
       "69.0     2\n",
       "70.0     1\n",
       "71.0     1\n",
       "72.0     1\n",
       "73.0     2\n",
       "74.0     1\n",
       "75.0     2\n",
       "dtype: int64"
      ]
     },
     "execution_count": 136,
     "metadata": {},
     "output_type": "execute_result"
    }
   ],
   "source": [
    "#3 значения выше upper bound=73\n",
    "horse_data_small.groupby('red_cells_volume').size()"
   ]
  },
  {
   "cell_type": "code",
   "execution_count": 80,
   "metadata": {},
   "outputs": [
    {
     "data": {
      "text/plain": [
       "<matplotlib.axes._subplots.AxesSubplot at 0x21b54cf6310>"
      ]
     },
     "execution_count": 80,
     "metadata": {},
     "output_type": "execute_result"
    },
    {
     "data": {
      "image/png": "[encoded data removed]",
      "text/plain": [
       "<Figure size 432x288 with 1 Axes>"
      ]
     },
     "metadata": {
      "needs_background": "light"
     },
     "output_type": "display_data"
    }
   ],
   "source": [
    "horse_data_small['red_cells_volume'].plot()"
   ]
  },
  {
   "cell_type": "code",
   "execution_count": 81,
   "metadata": {},
   "outputs": [
    {
     "data": {
      "text/plain": [
       "<matplotlib.axes._subplots.AxesSubplot at 0x21b5603c460>"
      ]
     },
     "execution_count": 81,
     "metadata": {},
     "output_type": "execute_result"
    },
    {
     "data": {
      "image/png": "[encoded data removed]",
      "text/plain": [
       "<Figure size 432x288 with 1 Axes>"
      ]
     },
     "metadata": {
      "needs_background": "light"
     },
     "output_type": "display_data"
    }
   ],
   "source": [
    "#Смотрим гистограмму. Проверяем насколько выбросы отделены от остального распределения\n",
    "horse_data_small['red_cells_volume'].plot(kind='hist', bins=30)\n",
    "\n",
    "#Вывод: выбросы естественные, не являются ошибками. В данном случае - это специфика распределения с длинным правым хвостом.\n",
    "#Не заменяем значения"
   ]
  },
  {
   "cell_type": "code",
   "execution_count": 61,
   "metadata": {
    "scrolled": true
   },
   "outputs": [
    {
     "data": {
      "text/plain": [
       "<matplotlib.axes._subplots.AxesSubplot at 0x21b528cb310>"
      ]
     },
     "execution_count": 61,
     "metadata": {},
     "output_type": "execute_result"
    },
    {
     "data": {
      "image/png": "[encoded data removed]",
      "text/plain": [
       "<Figure size 432x288 with 1 Axes>"
      ]
     },
     "metadata": {
      "needs_background": "light"
     },
     "output_type": "display_data"
    }
   ],
   "source": [
    "#переменная protein - нет выбросов\n",
    "#распределение интересное: показывает две разные группы. Как вариант, характеризует больных/не больных\n",
    "#либо вторая группа измерялась в другой шкале. не в грам/децилитр а в гр/на литр\n",
    "horse_data_small['protein'].plot(kind='box')"
   ]
  },
  {
   "cell_type": "code",
   "execution_count": 88,
   "metadata": {},
   "outputs": [
    {
     "data": {
      "text/plain": [
       "<matplotlib.axes._subplots.AxesSubplot at 0x21b564082b0>"
      ]
     },
     "execution_count": 88,
     "metadata": {},
     "output_type": "execute_result"
    },
    {
     "data": {
      "image/png": "[encoded data removed]",
      "text/plain": [
       "<Figure size 432x288 with 1 Axes>"
      ]
     },
     "metadata": {
      "needs_background": "light"
     },
     "output_type": "display_data"
    }
   ],
   "source": [
    "horse_data_small['protein'].plot(kind='hist', bins=30)"
   ]
  },
  {
   "cell_type": "code",
   "execution_count": 129,
   "metadata": {},
   "outputs": [
    {
     "data": {
      "text/plain": [
       "<matplotlib.axes._subplots.AxesSubplot at 0x21b5680faf0>"
      ]
     },
     "execution_count": 129,
     "metadata": {},
     "output_type": "execute_result"
    },
    {
     "data": {
      "image/png": "[encoded data removed]",
      "text/plain": [
       "<Figure size 432x288 with 1 Axes>"
      ]
     },
     "metadata": {
      "needs_background": "light"
     },
     "output_type": "display_data"
    }
   ],
   "source": [
    "#переменная pulse - есть выбросы в верхних значениях\n",
    "horse_data_small['pulse'].plot(kind='box')\n"
   ]
  },
  {
   "cell_type": "code",
   "execution_count": 137,
   "metadata": {},
   "outputs": [
    {
     "name": "stdout",
     "output_type": "stream",
     "text": [
      "q1= 48.0\n",
      "q3= 88.0\n",
      "lower bound= -12.0\n",
      "upper bound= 148.0\n"
     ]
    }
   ],
   "source": [
    "q1 = horse_data_small['pulse'].quantile(0.25)\n",
    "q3 = horse_data_small['pulse'].quantile(0.75)\n",
    "iqr=q3 - q1\n",
    "lower_= q1 - 1.5*iqr\n",
    "upper_= q3 + 1.5*iqr\n",
    "print ('q1=', q1)\n",
    "print ('q3=', q3)\n",
    "print ('lower bound=', lower_)\n",
    "print ('upper bound=', upper_)"
   ]
  },
  {
   "cell_type": "code",
   "execution_count": 138,
   "metadata": {},
   "outputs": [
    {
     "data": {
      "text/plain": [
       "pulse\n",
       "30.0      2\n",
       "36.0      3\n",
       "38.0      1\n",
       "40.0     18\n",
       "42.0     10\n",
       "44.0     11\n",
       "45.0      2\n",
       "46.0      1\n",
       "48.0     28\n",
       "49.0      1\n",
       "50.0      6\n",
       "52.0     12\n",
       "54.0      7\n",
       "56.0      7\n",
       "60.0     25\n",
       "64.0      8\n",
       "65.0      1\n",
       "66.0      6\n",
       "68.0      5\n",
       "70.0      4\n",
       "72.0     11\n",
       "75.0      1\n",
       "76.0      4\n",
       "78.0      3\n",
       "80.0      8\n",
       "82.0      1\n",
       "84.0      8\n",
       "86.0      3\n",
       "88.0     12\n",
       "90.0      3\n",
       "92.0      4\n",
       "96.0      8\n",
       "98.0      1\n",
       "100.0    11\n",
       "104.0     5\n",
       "108.0     3\n",
       "110.0     1\n",
       "112.0     3\n",
       "114.0     2\n",
       "120.0    10\n",
       "124.0     2\n",
       "128.0     1\n",
       "129.0     1\n",
       "130.0     2\n",
       "132.0     1\n",
       "136.0     1\n",
       "140.0     2\n",
       "146.0     1\n",
       "150.0     2\n",
       "160.0     1\n",
       "164.0     1\n",
       "184.0     1\n",
       "dtype: int64"
      ]
     },
     "execution_count": 138,
     "metadata": {},
     "output_type": "execute_result"
    }
   ],
   "source": [
    "#5 значений выше upper bound=148\n",
    "horse_data_small.groupby('pulse').size()"
   ]
  },
  {
   "cell_type": "code",
   "execution_count": 90,
   "metadata": {
    "scrolled": false
   },
   "outputs": [
    {
     "data": {
      "text/plain": [
       "<matplotlib.axes._subplots.AxesSubplot at 0x21b56554970>"
      ]
     },
     "execution_count": 90,
     "metadata": {},
     "output_type": "execute_result"
    },
    {
     "data": {
      "image/png": "[encoded data removed]",
      "text/plain": [
       "<Figure size 432x288 with 1 Axes>"
      ]
     },
     "metadata": {
      "needs_background": "light"
     },
     "output_type": "display_data"
    }
   ],
   "source": [
    "#Смотрим гистограмму. Проверяем насколько выбросы отделены от остального распределения\n",
    "horse_data_small['pulse'].plot(kind='hist', bins=10)"
   ]
  },
  {
   "cell_type": "code",
   "execution_count": 91,
   "metadata": {},
   "outputs": [
    {
     "data": {
      "text/plain": [
       "<matplotlib.axes._subplots.AxesSubplot at 0x21b565bc730>"
      ]
     },
     "execution_count": 91,
     "metadata": {},
     "output_type": "execute_result"
    },
    {
     "data": {
      "image/png": "[encoded data removed]",
      "text/plain": [
       "<Figure size 432x288 with 1 Axes>"
      ]
     },
     "metadata": {
      "needs_background": "light"
     },
     "output_type": "display_data"
    }
   ],
   "source": [
    "horse_data_small['pulse'].plot(kind='hist', bins=30)"
   ]
  },
  {
   "cell_type": "code",
   "execution_count": 92,
   "metadata": {},
   "outputs": [
    {
     "data": {
      "text/plain": [
       "<matplotlib.axes._subplots.AxesSubplot at 0x21b56669610>"
      ]
     },
     "execution_count": 92,
     "metadata": {},
     "output_type": "execute_result"
    },
    {
     "data": {
      "image/png": "[encoded data removed]",
      "text/plain": [
       "<Figure size 432x288 with 1 Axes>"
      ]
     },
     "metadata": {
      "needs_background": "light"
     },
     "output_type": "display_data"
    }
   ],
   "source": [
    "horse_data_small['pulse'].plot(kind='hist', bins=50)"
   ]
  },
  {
   "cell_type": "code",
   "execution_count": 133,
   "metadata": {},
   "outputs": [
    {
     "data": {
      "text/plain": [
       "0"
      ]
     },
     "execution_count": 133,
     "metadata": {},
     "output_type": "execute_result"
    }
   ],
   "source": [
    "\"\"\"\n",
    "по найденным данным смотрим возможные границы пульса лошадей. Пульс выше 100 может быть только у новорожденных, \n",
    "пульс выше 130 отсутствует. данный пульс может говорить о каком-то специфическом состоянии лошади\n",
    "\n",
    "Частота пульса у лошадей\n",
    "Новорожденные жеребята –(число ударов)100-130\n",
    "Жеребята в возрасте – 2 нед 80-120\n",
    "Жеребята в возрасте – 3–5 мес 64-76\n",
    "Жеребята в возрасте – 6-12 мес 48-72\n",
    "Жеребята в возрасте – 1–2 лет 40-56\n",
    "Жеребцы – 28-32\n",
    "Взрослый конь (мерин) – 33-39\n",
    "Кобыла – 34-40\n",
    "\"\"\"\n",
    "0"
   ]
  },
  {
   "cell_type": "code",
   "execution_count": 106,
   "metadata": {},
   "outputs": [
    {
     "data": {
      "text/html": [
       "<div>\n",
       "<style scoped>\n",
       "    .dataframe tbody tr th:only-of-type {\n",
       "        vertical-align: middle;\n",
       "    }\n",
       "\n",
       "    .dataframe tbody tr th {\n",
       "        vertical-align: top;\n",
       "    }\n",
       "\n",
       "    .dataframe thead th {\n",
       "        text-align: right;\n",
       "    }\n",
       "</style>\n",
       "<table border=\"1\" class=\"dataframe\">\n",
       "  <thead>\n",
       "    <tr style=\"text-align: right;\">\n",
       "      <th></th>\n",
       "      <th>reflux_ph</th>\n",
       "      <th>red_cells_volume</th>\n",
       "      <th>protein</th>\n",
       "      <th>pulse</th>\n",
       "      <th>distension_ctg</th>\n",
       "      <th>abd_fluid_ctg</th>\n",
       "      <th>outcome</th>\n",
       "      <th>age_flg</th>\n",
       "    </tr>\n",
       "  </thead>\n",
       "  <tbody>\n",
       "    <tr>\n",
       "      <th>130</th>\n",
       "      <td>NaN</td>\n",
       "      <td>NaN</td>\n",
       "      <td>NaN</td>\n",
       "      <td>30.0</td>\n",
       "      <td>NaN</td>\n",
       "      <td>NaN</td>\n",
       "      <td>2.0</td>\n",
       "      <td>1</td>\n",
       "    </tr>\n",
       "    <tr>\n",
       "      <th>232</th>\n",
       "      <td>NaN</td>\n",
       "      <td>40.0</td>\n",
       "      <td>7.7</td>\n",
       "      <td>30.0</td>\n",
       "      <td>NaN</td>\n",
       "      <td>NaN</td>\n",
       "      <td>1.0</td>\n",
       "      <td>1</td>\n",
       "    </tr>\n",
       "    <tr>\n",
       "      <th>203</th>\n",
       "      <td>NaN</td>\n",
       "      <td>35.0</td>\n",
       "      <td>5.7</td>\n",
       "      <td>36.0</td>\n",
       "      <td>1.0</td>\n",
       "      <td>NaN</td>\n",
       "      <td>1.0</td>\n",
       "      <td>1</td>\n",
       "    </tr>\n",
       "    <tr>\n",
       "      <th>276</th>\n",
       "      <td>2.0</td>\n",
       "      <td>37.0</td>\n",
       "      <td>75.0</td>\n",
       "      <td>36.0</td>\n",
       "      <td>2.0</td>\n",
       "      <td>2.0</td>\n",
       "      <td>3.0</td>\n",
       "      <td>1</td>\n",
       "    </tr>\n",
       "    <tr>\n",
       "      <th>242</th>\n",
       "      <td>4.0</td>\n",
       "      <td>41.0</td>\n",
       "      <td>5.9</td>\n",
       "      <td>36.0</td>\n",
       "      <td>3.0</td>\n",
       "      <td>NaN</td>\n",
       "      <td>2.0</td>\n",
       "      <td>1</td>\n",
       "    </tr>\n",
       "    <tr>\n",
       "      <th>...</th>\n",
       "      <td>...</td>\n",
       "      <td>...</td>\n",
       "      <td>...</td>\n",
       "      <td>...</td>\n",
       "      <td>...</td>\n",
       "      <td>...</td>\n",
       "      <td>...</td>\n",
       "      <td>...</td>\n",
       "    </tr>\n",
       "    <tr>\n",
       "      <th>148</th>\n",
       "      <td>6.2</td>\n",
       "      <td>57.0</td>\n",
       "      <td>8.0</td>\n",
       "      <td>132.0</td>\n",
       "      <td>2.0</td>\n",
       "      <td>NaN</td>\n",
       "      <td>1.0</td>\n",
       "      <td>1</td>\n",
       "    </tr>\n",
       "    <tr>\n",
       "      <th>135</th>\n",
       "      <td>4.4</td>\n",
       "      <td>33.0</td>\n",
       "      <td>4.9</td>\n",
       "      <td>136.0</td>\n",
       "      <td>3.0</td>\n",
       "      <td>2.0</td>\n",
       "      <td>2.0</td>\n",
       "      <td>9</td>\n",
       "    </tr>\n",
       "    <tr>\n",
       "      <th>44</th>\n",
       "      <td>NaN</td>\n",
       "      <td>57.0</td>\n",
       "      <td>69.0</td>\n",
       "      <td>140.0</td>\n",
       "      <td>NaN</td>\n",
       "      <td>3.0</td>\n",
       "      <td>3.0</td>\n",
       "      <td>1</td>\n",
       "    </tr>\n",
       "    <tr>\n",
       "      <th>103</th>\n",
       "      <td>NaN</td>\n",
       "      <td>39.0</td>\n",
       "      <td>5.3</td>\n",
       "      <td>140.0</td>\n",
       "      <td>2.0</td>\n",
       "      <td>NaN</td>\n",
       "      <td>1.0</td>\n",
       "      <td>9</td>\n",
       "    </tr>\n",
       "    <tr>\n",
       "      <th>39</th>\n",
       "      <td>NaN</td>\n",
       "      <td>NaN</td>\n",
       "      <td>NaN</td>\n",
       "      <td>146.0</td>\n",
       "      <td>NaN</td>\n",
       "      <td>NaN</td>\n",
       "      <td>2.0</td>\n",
       "      <td>9</td>\n",
       "    </tr>\n",
       "  </tbody>\n",
       "</table>\n",
       "<p>271 rows × 8 columns</p>\n",
       "</div>"
      ],
      "text/plain": [
       "     reflux_ph  red_cells_volume  protein  pulse  distension_ctg  \\\n",
       "130        NaN               NaN      NaN   30.0             NaN   \n",
       "232        NaN              40.0      7.7   30.0             NaN   \n",
       "203        NaN              35.0      5.7   36.0             1.0   \n",
       "276        2.0              37.0     75.0   36.0             2.0   \n",
       "242        4.0              41.0      5.9   36.0             3.0   \n",
       "..         ...               ...      ...    ...             ...   \n",
       "148        6.2              57.0      8.0  132.0             2.0   \n",
       "135        4.4              33.0      4.9  136.0             3.0   \n",
       "44         NaN              57.0     69.0  140.0             NaN   \n",
       "103        NaN              39.0      5.3  140.0             2.0   \n",
       "39         NaN               NaN      NaN  146.0             NaN   \n",
       "\n",
       "     abd_fluid_ctg  outcome  age_flg  \n",
       "130            NaN      2.0        1  \n",
       "232            NaN      1.0        1  \n",
       "203            NaN      1.0        1  \n",
       "276            2.0      3.0        1  \n",
       "242            NaN      2.0        1  \n",
       "..             ...      ...      ...  \n",
       "148            NaN      1.0        1  \n",
       "135            2.0      2.0        9  \n",
       "44             3.0      3.0        1  \n",
       "103            NaN      1.0        9  \n",
       "39             NaN      2.0        9  \n",
       "\n",
       "[271 rows x 8 columns]"
      ]
     },
     "execution_count": 106,
     "metadata": {},
     "output_type": "execute_result"
    }
   ],
   "source": [
    "remove_outliers = horse_data_small[horse_data_small['pulse'].between(lower_,upper_, inclusive=True)].sort_values('pulse')\n",
    "remove_outliers"
   ]
  },
  {
   "cell_type": "code",
   "execution_count": 134,
   "metadata": {},
   "outputs": [
    {
     "data": {
      "text/html": [
       "<div>\n",
       "<style scoped>\n",
       "    .dataframe tbody tr th:only-of-type {\n",
       "        vertical-align: middle;\n",
       "    }\n",
       "\n",
       "    .dataframe tbody tr th {\n",
       "        vertical-align: top;\n",
       "    }\n",
       "\n",
       "    .dataframe thead th {\n",
       "        text-align: right;\n",
       "    }\n",
       "</style>\n",
       "<table border=\"1\" class=\"dataframe\">\n",
       "  <thead>\n",
       "    <tr style=\"text-align: right;\">\n",
       "      <th></th>\n",
       "      <th>reflux_ph</th>\n",
       "      <th>red_cells_volume</th>\n",
       "      <th>protein</th>\n",
       "      <th>pulse</th>\n",
       "      <th>distension_ctg</th>\n",
       "      <th>abd_fluid_ctg</th>\n",
       "      <th>outcome</th>\n",
       "      <th>age_flg</th>\n",
       "    </tr>\n",
       "  </thead>\n",
       "  <tbody>\n",
       "    <tr>\n",
       "      <th>3</th>\n",
       "      <td>5.0</td>\n",
       "      <td>48.0</td>\n",
       "      <td>7.2</td>\n",
       "      <td>164.0</td>\n",
       "      <td>4.0</td>\n",
       "      <td>3.0</td>\n",
       "      <td>2.0</td>\n",
       "      <td>9</td>\n",
       "    </tr>\n",
       "    <tr>\n",
       "      <th>5</th>\n",
       "      <td>NaN</td>\n",
       "      <td>NaN</td>\n",
       "      <td>NaN</td>\n",
       "      <td>NaN</td>\n",
       "      <td>2.0</td>\n",
       "      <td>NaN</td>\n",
       "      <td>1.0</td>\n",
       "      <td>1</td>\n",
       "    </tr>\n",
       "    <tr>\n",
       "      <th>28</th>\n",
       "      <td>NaN</td>\n",
       "      <td>NaN</td>\n",
       "      <td>NaN</td>\n",
       "      <td>NaN</td>\n",
       "      <td>NaN</td>\n",
       "      <td>NaN</td>\n",
       "      <td>2.0</td>\n",
       "      <td>1</td>\n",
       "    </tr>\n",
       "    <tr>\n",
       "      <th>41</th>\n",
       "      <td>NaN</td>\n",
       "      <td>47.0</td>\n",
       "      <td>8.5</td>\n",
       "      <td>150.0</td>\n",
       "      <td>NaN</td>\n",
       "      <td>NaN</td>\n",
       "      <td>1.0</td>\n",
       "      <td>9</td>\n",
       "    </tr>\n",
       "    <tr>\n",
       "      <th>52</th>\n",
       "      <td>NaN</td>\n",
       "      <td>43.0</td>\n",
       "      <td>7.7</td>\n",
       "      <td>NaN</td>\n",
       "      <td>1.0</td>\n",
       "      <td>NaN</td>\n",
       "      <td>1.0</td>\n",
       "      <td>1</td>\n",
       "    </tr>\n",
       "    <tr>\n",
       "      <th>55</th>\n",
       "      <td>NaN</td>\n",
       "      <td>38.0</td>\n",
       "      <td>NaN</td>\n",
       "      <td>160.0</td>\n",
       "      <td>4.0</td>\n",
       "      <td>2.0</td>\n",
       "      <td>2.0</td>\n",
       "      <td>9</td>\n",
       "    </tr>\n",
       "    <tr>\n",
       "      <th>56</th>\n",
       "      <td>NaN</td>\n",
       "      <td>24.0</td>\n",
       "      <td>6.7</td>\n",
       "      <td>NaN</td>\n",
       "      <td>NaN</td>\n",
       "      <td>NaN</td>\n",
       "      <td>1.0</td>\n",
       "      <td>1</td>\n",
       "    </tr>\n",
       "    <tr>\n",
       "      <th>58</th>\n",
       "      <td>NaN</td>\n",
       "      <td>53.0</td>\n",
       "      <td>5.9</td>\n",
       "      <td>NaN</td>\n",
       "      <td>3.0</td>\n",
       "      <td>3.0</td>\n",
       "      <td>2.0</td>\n",
       "      <td>1</td>\n",
       "    </tr>\n",
       "    <tr>\n",
       "      <th>74</th>\n",
       "      <td>NaN</td>\n",
       "      <td>37.0</td>\n",
       "      <td>4.9</td>\n",
       "      <td>NaN</td>\n",
       "      <td>NaN</td>\n",
       "      <td>NaN</td>\n",
       "      <td>2.0</td>\n",
       "      <td>9</td>\n",
       "    </tr>\n",
       "    <tr>\n",
       "      <th>93</th>\n",
       "      <td>NaN</td>\n",
       "      <td>38.0</td>\n",
       "      <td>6.5</td>\n",
       "      <td>NaN</td>\n",
       "      <td>3.0</td>\n",
       "      <td>NaN</td>\n",
       "      <td>2.0</td>\n",
       "      <td>1</td>\n",
       "    </tr>\n",
       "    <tr>\n",
       "      <th>115</th>\n",
       "      <td>NaN</td>\n",
       "      <td>45.0</td>\n",
       "      <td>70.0</td>\n",
       "      <td>NaN</td>\n",
       "      <td>2.0</td>\n",
       "      <td>NaN</td>\n",
       "      <td>1.0</td>\n",
       "      <td>1</td>\n",
       "    </tr>\n",
       "    <tr>\n",
       "      <th>117</th>\n",
       "      <td>5.5</td>\n",
       "      <td>NaN</td>\n",
       "      <td>6.7</td>\n",
       "      <td>NaN</td>\n",
       "      <td>3.0</td>\n",
       "      <td>1.0</td>\n",
       "      <td>3.0</td>\n",
       "      <td>1</td>\n",
       "    </tr>\n",
       "    <tr>\n",
       "      <th>126</th>\n",
       "      <td>NaN</td>\n",
       "      <td>33.0</td>\n",
       "      <td>6.5</td>\n",
       "      <td>NaN</td>\n",
       "      <td>2.0</td>\n",
       "      <td>2.0</td>\n",
       "      <td>1.0</td>\n",
       "      <td>1</td>\n",
       "    </tr>\n",
       "    <tr>\n",
       "      <th>151</th>\n",
       "      <td>4.0</td>\n",
       "      <td>75.0</td>\n",
       "      <td>NaN</td>\n",
       "      <td>NaN</td>\n",
       "      <td>2.0</td>\n",
       "      <td>3.0</td>\n",
       "      <td>2.0</td>\n",
       "      <td>1</td>\n",
       "    </tr>\n",
       "    <tr>\n",
       "      <th>159</th>\n",
       "      <td>NaN</td>\n",
       "      <td>44.0</td>\n",
       "      <td>7.5</td>\n",
       "      <td>NaN</td>\n",
       "      <td>2.0</td>\n",
       "      <td>2.0</td>\n",
       "      <td>1.0</td>\n",
       "      <td>1</td>\n",
       "    </tr>\n",
       "    <tr>\n",
       "      <th>160</th>\n",
       "      <td>NaN</td>\n",
       "      <td>35.0</td>\n",
       "      <td>58.0</td>\n",
       "      <td>NaN</td>\n",
       "      <td>NaN</td>\n",
       "      <td>2.0</td>\n",
       "      <td>1.0</td>\n",
       "      <td>1</td>\n",
       "    </tr>\n",
       "    <tr>\n",
       "      <th>174</th>\n",
       "      <td>NaN</td>\n",
       "      <td>NaN</td>\n",
       "      <td>NaN</td>\n",
       "      <td>NaN</td>\n",
       "      <td>4.0</td>\n",
       "      <td>NaN</td>\n",
       "      <td>2.0</td>\n",
       "      <td>1</td>\n",
       "    </tr>\n",
       "    <tr>\n",
       "      <th>204</th>\n",
       "      <td>NaN</td>\n",
       "      <td>36.0</td>\n",
       "      <td>6.6</td>\n",
       "      <td>NaN</td>\n",
       "      <td>2.0</td>\n",
       "      <td>1.0</td>\n",
       "      <td>1.0</td>\n",
       "      <td>1</td>\n",
       "    </tr>\n",
       "    <tr>\n",
       "      <th>207</th>\n",
       "      <td>NaN</td>\n",
       "      <td>45.0</td>\n",
       "      <td>8.7</td>\n",
       "      <td>NaN</td>\n",
       "      <td>NaN</td>\n",
       "      <td>NaN</td>\n",
       "      <td>2.0</td>\n",
       "      <td>1</td>\n",
       "    </tr>\n",
       "    <tr>\n",
       "      <th>227</th>\n",
       "      <td>NaN</td>\n",
       "      <td>45.0</td>\n",
       "      <td>6.5</td>\n",
       "      <td>NaN</td>\n",
       "      <td>NaN</td>\n",
       "      <td>2.0</td>\n",
       "      <td>1.0</td>\n",
       "      <td>9</td>\n",
       "    </tr>\n",
       "    <tr>\n",
       "      <th>255</th>\n",
       "      <td>NaN</td>\n",
       "      <td>33.0</td>\n",
       "      <td>3.3</td>\n",
       "      <td>184.0</td>\n",
       "      <td>3.0</td>\n",
       "      <td>NaN</td>\n",
       "      <td>2.0</td>\n",
       "      <td>9</td>\n",
       "    </tr>\n",
       "    <tr>\n",
       "      <th>275</th>\n",
       "      <td>NaN</td>\n",
       "      <td>50.0</td>\n",
       "      <td>6.2</td>\n",
       "      <td>150.0</td>\n",
       "      <td>2.0</td>\n",
       "      <td>NaN</td>\n",
       "      <td>2.0</td>\n",
       "      <td>9</td>\n",
       "    </tr>\n",
       "  </tbody>\n",
       "</table>\n",
       "</div>"
      ],
      "text/plain": [
       "     reflux_ph  red_cells_volume  protein  pulse  distension_ctg  \\\n",
       "3          5.0              48.0      7.2  164.0             4.0   \n",
       "5          NaN               NaN      NaN    NaN             2.0   \n",
       "28         NaN               NaN      NaN    NaN             NaN   \n",
       "41         NaN              47.0      8.5  150.0             NaN   \n",
       "52         NaN              43.0      7.7    NaN             1.0   \n",
       "55         NaN              38.0      NaN  160.0             4.0   \n",
       "56         NaN              24.0      6.7    NaN             NaN   \n",
       "58         NaN              53.0      5.9    NaN             3.0   \n",
       "74         NaN              37.0      4.9    NaN             NaN   \n",
       "93         NaN              38.0      6.5    NaN             3.0   \n",
       "115        NaN              45.0     70.0    NaN             2.0   \n",
       "117        5.5               NaN      6.7    NaN             3.0   \n",
       "126        NaN              33.0      6.5    NaN             2.0   \n",
       "151        4.0              75.0      NaN    NaN             2.0   \n",
       "159        NaN              44.0      7.5    NaN             2.0   \n",
       "160        NaN              35.0     58.0    NaN             NaN   \n",
       "174        NaN               NaN      NaN    NaN             4.0   \n",
       "204        NaN              36.0      6.6    NaN             2.0   \n",
       "207        NaN              45.0      8.7    NaN             NaN   \n",
       "227        NaN              45.0      6.5    NaN             NaN   \n",
       "255        NaN              33.0      3.3  184.0             3.0   \n",
       "275        NaN              50.0      6.2  150.0             2.0   \n",
       "\n",
       "     abd_fluid_ctg  outcome  age_flg  \n",
       "3              3.0      2.0        9  \n",
       "5              NaN      1.0        1  \n",
       "28             NaN      2.0        1  \n",
       "41             NaN      1.0        9  \n",
       "52             NaN      1.0        1  \n",
       "55             2.0      2.0        9  \n",
       "56             NaN      1.0        1  \n",
       "58             3.0      2.0        1  \n",
       "74             NaN      2.0        9  \n",
       "93             NaN      2.0        1  \n",
       "115            NaN      1.0        1  \n",
       "117            1.0      3.0        1  \n",
       "126            2.0      1.0        1  \n",
       "151            3.0      2.0        1  \n",
       "159            2.0      1.0        1  \n",
       "160            2.0      1.0        1  \n",
       "174            NaN      2.0        1  \n",
       "204            1.0      1.0        1  \n",
       "207            NaN      2.0        1  \n",
       "227            2.0      1.0        9  \n",
       "255            NaN      2.0        9  \n",
       "275            NaN      2.0        9  "
      ]
     },
     "execution_count": 134,
     "metadata": {},
     "output_type": "execute_result"
    }
   ],
   "source": [
    "#помимо 5 выбросов убрали также и все пустые значения. \n",
    "\n",
    "#Видим, что все лошади с пульсом высше upper_bound умерли (outcome=2). Далее проверим гипотезу о том,\n",
    "#что такой пульс - показатель болезни\n",
    "pd.concat([horse_data_small,remove_outliers]).drop_duplicates(keep=False)"
   ]
  },
  {
   "cell_type": "code",
   "execution_count": 139,
   "metadata": {},
   "outputs": [
    {
     "data": {
      "text/plain": [
       "<matplotlib.axes._subplots.AxesSubplot at 0x21b5671e1f0>"
      ]
     },
     "execution_count": 139,
     "metadata": {},
     "output_type": "execute_result"
    },
    {
     "data": {
      "image/png": "[encoded data removed]",
      "text/plain": [
       "<Figure size 432x288 with 1 Axes>"
      ]
     },
     "metadata": {
      "needs_background": "light"
     },
     "output_type": "display_data"
    }
   ],
   "source": [
    "horse_data_small.plot.scatter(x='pulse',\n",
    "                      y='outcome',\n",
    "                      c='DarkBlue')"
   ]
  },
  {
   "cell_type": "code",
   "execution_count": 28,
   "metadata": {},
   "outputs": [
    {
     "data": {
      "text/plain": [
       "<matplotlib.axes._subplots.AxesSubplot at 0x255901ae760>"
      ]
     },
     "execution_count": 28,
     "metadata": {},
     "output_type": "execute_result"
    },
    {
     "data": {
      "image/png": "[encoded data removed]",
      "text/plain": [
       "<Figure size 432x288 with 1 Axes>"
      ]
     },
     "metadata": {
      "needs_background": "light"
     },
     "output_type": "display_data"
    }
   ],
   "source": [
    "#Смотрим показатели выживших лошадей. Видим, что медиана пульса у них сильно ниже чем у умерших. \n",
    "#За исключением одного случая, среди выживших нет пульса выше 140. Таким образом косвенно пульс выше 140\n",
    "#скорее всего смертелен. \n",
    "\n",
    "#Вывод: все-таки считаем их естественными выбросами - характеристиками плохого состояния\n",
    "horse_data_small.boxplot(column='pulse', by = 'outcome')"
   ]
  },
  {
   "cell_type": "code",
   "execution_count": 27,
   "metadata": {},
   "outputs": [
    {
     "name": "stdout",
     "output_type": "stream",
     "text": [
      "<class 'pandas.core.frame.DataFrame'>\n",
      "RangeIndex: 300 entries, 0 to 299\n",
      "Data columns (total 8 columns):\n",
      " #   Column            Non-Null Count  Dtype  \n",
      "---  ------            --------------  -----  \n",
      " 0   reflux_ph         53 non-null     float64\n",
      " 1   red_cells_volume  271 non-null    float64\n",
      " 2   protein           267 non-null    float64\n",
      " 3   pulse             276 non-null    float64\n",
      " 4   distension_ctg    244 non-null    float64\n",
      " 5   abd_fluid_ctg     135 non-null    float64\n",
      " 6   outcome           299 non-null    float64\n",
      " 7   age_flg           300 non-null    int64  \n",
      "dtypes: float64(7), int64(1)\n",
      "memory usage: 18.9 KB\n"
     ]
    }
   ],
   "source": [
    "\"\"\"\n",
    "Задание 3. Работа с пропусками\n",
    "Рассчитать количество пропусков для всех выбранных столбцов. Принять и обосновать решение о методе \n",
    "работы с пропусками по каждому столбцу, сформировать датафрейм, в котором пропуски будут отсутствовать.\n",
    "\"\"\"\n",
    "horse_data_small.info()"
   ]
  },
  {
   "cell_type": "code",
   "execution_count": 29,
   "metadata": {
    "scrolled": true
   },
   "outputs": [
    {
     "name": "stdout",
     "output_type": "stream",
     "text": [
      "reflux_ph-82.3%\n",
      "red_cells_volume-9.7%\n",
      "protein-11.0%\n",
      "pulse-8.0%\n",
      "distension_ctg-18.7%\n",
      "abd_fluid_ctg-55.0%\n",
      "outcome-0.3%\n",
      "age_flg-0.0%\n"
     ]
    }
   ],
   "source": [
    "for col in horse_data_small.columns:\n",
    "    df_miss = horse_data_small[col].isna().mean()\n",
    "    print(f'{col}-{df_miss:.1%}')\n",
    "    \n",
    "#reflux_ph-82.3%  Много пропусков . Этот столбец далее будем удалять"
   ]
  },
  {
   "cell_type": "code",
   "execution_count": 15,
   "metadata": {},
   "outputs": [
    {
     "name": "stdout",
     "output_type": "stream",
     "text": [
      "<class 'pandas.core.frame.DataFrame'>\n",
      "Int64Index: 29 entries, 3 to 291\n",
      "Data columns (total 8 columns):\n",
      " #   Column            Non-Null Count  Dtype  \n",
      "---  ------            --------------  -----  \n",
      " 0   reflux_ph         29 non-null     float64\n",
      " 1   red_cells_volume  29 non-null     float64\n",
      " 2   protein           29 non-null     float64\n",
      " 3   pulse             29 non-null     float64\n",
      " 4   distension_ctg    29 non-null     float64\n",
      " 5   abd_fluid_ctg     29 non-null     float64\n",
      " 6   outcome           29 non-null     float64\n",
      " 7   age_flg           29 non-null     int64  \n",
      "dtypes: float64(7), int64(1)\n",
      "memory usage: 2.0 KB\n"
     ]
    }
   ],
   "source": [
    "#если удалим все пропуски, останется 29 записей\n",
    "horse_data_small.dropna().info()"
   ]
  },
  {
   "cell_type": "code",
   "execution_count": 14,
   "metadata": {
    "scrolled": true
   },
   "outputs": [
    {
     "name": "stdout",
     "output_type": "stream",
     "text": [
      "<class 'pandas.core.frame.DataFrame'>\n",
      "Int64Index: 273 entries, 0 to 299\n",
      "Data columns (total 8 columns):\n",
      " #   Column            Non-Null Count  Dtype  \n",
      "---  ------            --------------  -----  \n",
      " 0   reflux_ph         53 non-null     float64\n",
      " 1   red_cells_volume  267 non-null    float64\n",
      " 2   protein           264 non-null    float64\n",
      " 3   pulse             258 non-null    float64\n",
      " 4   distension_ctg    234 non-null    float64\n",
      " 5   abd_fluid_ctg     134 non-null    float64\n",
      " 6   outcome           272 non-null    float64\n",
      " 7   age_flg           273 non-null    int64  \n",
      "dtypes: float64(7), int64(1)\n",
      "memory usage: 19.2 KB\n"
     ]
    }
   ],
   "source": [
    "#удаляем строки, в ктороых заполнено не менее n столбцов из 8ми\n",
    "n=5\n",
    "horse_data_small.dropna(thresh=n).info()"
   ]
  },
  {
   "cell_type": "code",
   "execution_count": 89,
   "metadata": {
    "scrolled": true
   },
   "outputs": [
    {
     "name": "stdout",
     "output_type": "stream",
     "text": [
      "<class 'pandas.core.frame.DataFrame'>\n",
      "RangeIndex: 300 entries, 0 to 299\n",
      "Data columns (total 7 columns):\n",
      " #   Column            Non-Null Count  Dtype  \n",
      "---  ------            --------------  -----  \n",
      " 0   red_cells_volume  271 non-null    float64\n",
      " 1   protein           267 non-null    float64\n",
      " 2   pulse             276 non-null    float64\n",
      " 3   distension_ctg    244 non-null    float64\n",
      " 4   abd_fluid_ctg     135 non-null    float64\n",
      " 5   outcome           299 non-null    float64\n",
      " 6   age_flg           300 non-null    int64  \n",
      "dtypes: float64(6), int64(1)\n",
      "memory usage: 16.5 KB\n"
     ]
    }
   ],
   "source": [
    "horse_data_small_dr1= horse_data_small.drop(['reflux_ph'], axis=1)\n",
    "horse_data_small_dr1.info()\n",
    "#Много пропусков >80%. столбец reflux_ph удаляем. Пишем в новый датасет"
   ]
  },
  {
   "cell_type": "code",
   "execution_count": 90,
   "metadata": {},
   "outputs": [
    {
     "name": "stdout",
     "output_type": "stream",
     "text": [
      "кол-во пустых= 29\n",
      "медиана= 45.0\n",
      "среднее= 46.29520295202952\n",
      "среднее по полю outcome outcome\n",
      "1.0    42.727273\n",
      "2.0    52.536232\n",
      "3.0    50.777778\n",
      "Name: red_cells_volume, dtype: float64\n",
      "медиана по полю outcome outcome\n",
      "1.0    42.0\n",
      "2.0    53.0\n",
      "3.0    50.5\n",
      "Name: red_cells_volume, dtype: float64\n"
     ]
    }
   ],
   "source": [
    "#заполение пропусков в переменной red_cells_volume\n",
    "#есть различия в разных статусах лошади\n",
    "print('кол-во пустых=',horse_data_small_dr1['red_cells_volume'].isna().sum())\n",
    "#смотрим среднее и медину в разрезе статуса лошади жива/не жива\n",
    "print('медиана=', horse_data_small_dr1['red_cells_volume'].median())\n",
    "print('среднее=', horse_data_small_dr1['red_cells_volume'].mean())\n",
    "print('среднее по полю outcome', horse_data_small_dr1.groupby('outcome')['red_cells_volume'].mean())\n",
    "print('медиана по полю outcome', horse_data_small_dr1.groupby('outcome')['red_cells_volume'].median())"
   ]
  },
  {
   "cell_type": "code",
   "execution_count": 91,
   "metadata": {},
   "outputs": [],
   "source": [
    "#заполняем медианой группируя по статусу лошади\n",
    "horse_data_small_dr2 = horse_data_small_dr1\n",
    "horse_data_small_dr2['red_cells_volume'].fillna(horse_data_small_dr2.groupby('outcome')['red_cells_volume'].transform('median'),inplace=True)"
   ]
  },
  {
   "cell_type": "code",
   "execution_count": 92,
   "metadata": {},
   "outputs": [
    {
     "name": "stdout",
     "output_type": "stream",
     "text": [
      "кол-во пустых= 0\n",
      "медиана= 45.0\n",
      "среднее= 46.4\n",
      "среднее по полю outcome outcome\n",
      "1.0    42.674157\n",
      "2.0    52.584416\n",
      "3.0    50.727273\n",
      "Name: red_cells_volume, dtype: float64\n",
      "медиана по полю outcome outcome\n",
      "1.0    42.0\n",
      "2.0    53.0\n",
      "3.0    50.5\n",
      "Name: red_cells_volume, dtype: float64\n"
     ]
    }
   ],
   "source": [
    "#после заполнения\n",
    "print('кол-во пустых=',horse_data_small_dr2['red_cells_volume'].isna().sum())\n",
    "\n",
    "print('медиана=', horse_data_small_dr2['red_cells_volume'].median())\n",
    "print('среднее=', horse_data_small_dr2['red_cells_volume'].mean())\n",
    "print('среднее по полю outcome', horse_data_small_dr2.groupby('outcome')['red_cells_volume'].mean())\n",
    "print('медиана по полю outcome', horse_data_small_dr2.groupby('outcome')['red_cells_volume'].median())"
   ]
  },
  {
   "cell_type": "code",
   "execution_count": 93,
   "metadata": {},
   "outputs": [
    {
     "name": "stdout",
     "output_type": "stream",
     "text": [
      "кол-во пустых= 33\n",
      "медиана= 7.5\n",
      "среднее= 24.456928838951317\n",
      "среднее по полю outcome outcome\n",
      "1.0    27.264848\n",
      "2.0     6.844615\n",
      "3.0    42.038889\n",
      "Name: protein, dtype: float64\n",
      "медиана по полю outcome outcome\n",
      "1.0     7.5\n",
      "2.0     6.8\n",
      "3.0    56.0\n",
      "Name: protein, dtype: float64\n"
     ]
    }
   ],
   "source": [
    "#заполение пропусков в переменной protein\n",
    "#есть различия в разных статусах лошад\n",
    "print('кол-во пустых=',horse_data_small_dr1['protein'].isna().sum())\n",
    "#смотрим среднее и медину в разрезе статуса лошади жива/не жива\n",
    "print('медиана=', horse_data_small_dr1['protein'].median())\n",
    "print('среднее=', horse_data_small_dr1['protein'].mean())\n",
    "print('среднее по полю outcome', horse_data_small_dr1.groupby('outcome')['protein'].mean())\n",
    "print('медиана по полю outcome', horse_data_small_dr1.groupby('outcome')['protein'].median())\n"
   ]
  },
  {
   "cell_type": "code",
   "execution_count": 94,
   "metadata": {},
   "outputs": [],
   "source": [
    "#заполняем медианой группируя по статусу лошади\n",
    "horse_data_small_dr3 = horse_data_small_dr2\n",
    "horse_data_small_dr3['protein'].fillna(horse_data_small_dr2.groupby('outcome')['protein'].transform('median'),inplace=True)"
   ]
  },
  {
   "cell_type": "code",
   "execution_count": 95,
   "metadata": {},
   "outputs": [
    {
     "name": "stdout",
     "output_type": "stream",
     "text": [
      "кол-во пустых= 0\n",
      "медиана= 7.5\n",
      "среднее= 23.857000000000014\n",
      "среднее по полю outcome outcome\n",
      "1.0    25.821348\n",
      "2.0     6.837662\n",
      "3.0    44.577273\n",
      "Name: protein, dtype: float64\n",
      "медиана по полю outcome outcome\n",
      "1.0     7.5\n",
      "2.0     6.8\n",
      "3.0    56.0\n",
      "Name: protein, dtype: float64\n"
     ]
    }
   ],
   "source": [
    "#после заполнения\n",
    "print('кол-во пустых=',horse_data_small_dr3['protein'].isna().sum())\n",
    "print('медиана=', horse_data_small_dr3['protein'].median())\n",
    "print('среднее=', horse_data_small_dr3['protein'].mean())\n",
    "print('среднее по полю outcome', horse_data_small_dr3.groupby('outcome')['protein'].mean())\n",
    "print('медиана по полю outcome', horse_data_small_dr3.groupby('outcome')['protein'].median())"
   ]
  },
  {
   "cell_type": "code",
   "execution_count": 96,
   "metadata": {},
   "outputs": [
    {
     "name": "stdout",
     "output_type": "stream",
     "text": [
      "кол-во пустых= 24\n",
      "медиана= 64.0\n",
      "среднее= 71.91304347826087\n",
      "среднее по полю outcome outcome\n",
      "1.0    63.421687\n",
      "2.0    87.227273\n",
      "3.0    81.744186\n",
      "Name: pulse, dtype: float64\n",
      "медиана по полю outcome outcome\n",
      "1.0    54.0\n",
      "2.0    86.0\n",
      "3.0    82.0\n",
      "Name: pulse, dtype: float64\n"
     ]
    }
   ],
   "source": [
    "#заполение пропусков в переменной pulse\n",
    "#есть различия в разных статусах лошад\n",
    "print('кол-во пустых=',horse_data_small_dr1['pulse'].isna().sum())\n",
    "#смотрим среднее и медину в разрезе статуса лошади жива/не жива\n",
    "print('медиана=', horse_data_small_dr1['pulse'].median())\n",
    "print('среднее=', horse_data_small_dr1['pulse'].mean())\n",
    "print('среднее по полю outcome', horse_data_small_dr1.groupby('outcome')['pulse'].mean())\n",
    "print('медиана по полю outcome', horse_data_small_dr1.groupby('outcome')['pulse'].median())\n"
   ]
  },
  {
   "cell_type": "code",
   "execution_count": 97,
   "metadata": {},
   "outputs": [],
   "source": [
    "#заполняем медианой группируя по статусу лошади\n",
    "horse_data_small_dr4 = horse_data_small_dr3\n",
    "horse_data_small_dr4['pulse'].fillna(horse_data_small_dr3.groupby('outcome')['pulse'].transform('median'),inplace=True)"
   ]
  },
  {
   "cell_type": "code",
   "execution_count": 98,
   "metadata": {},
   "outputs": [
    {
     "name": "stdout",
     "output_type": "stream",
     "text": [
      "кол-во пустых= 0\n",
      "медиана= 64.0\n",
      "среднее= 71.74666666666667\n",
      "среднее по полю outcome outcome\n",
      "1.0    62.786517\n",
      "2.0    87.051948\n",
      "3.0    81.750000\n",
      "Name: pulse, dtype: float64\n",
      "медиана по полю outcome outcome\n",
      "1.0    54.0\n",
      "2.0    86.0\n",
      "3.0    82.0\n",
      "Name: pulse, dtype: float64\n"
     ]
    }
   ],
   "source": [
    "#после заполнения\n",
    "print('кол-во пустых=',horse_data_small_dr4['pulse'].isna().sum())\n",
    "print('медиана=', horse_data_small_dr4['pulse'].median())\n",
    "print('среднее=', horse_data_small_dr4['pulse'].mean())\n",
    "print('среднее по полю outcome', horse_data_small_dr4.groupby('outcome')['pulse'].mean())\n",
    "print('медиана по полю outcome', horse_data_small_dr4.groupby('outcome')['pulse'].median())"
   ]
  },
  {
   "cell_type": "code",
   "execution_count": 103,
   "metadata": {},
   "outputs": [
    {
     "name": "stdout",
     "output_type": "stream",
     "text": [
      "кол-во пустых= 1\n",
      "outcome\n",
      "1.0    178\n",
      "2.0     77\n",
      "3.0     44\n",
      "Name: red_cells_volume, dtype: int64\n"
     ]
    }
   ],
   "source": [
    "#заполение пропусков в переменной outcome\n",
    "#Один пропуск - заполним модой. Самое частое значение =1. \n",
    "print('кол-во пустых=',horse_data_small_dr1['outcome'].isna().sum())\n",
    "\n",
    "print(horse_data_small_dr1.groupby('outcome').count()['red_cells_volume'])"
   ]
  },
  {
   "cell_type": "code",
   "execution_count": 104,
   "metadata": {},
   "outputs": [],
   "source": [
    "orse_data_small_dr5=horse_data_small_dr4\n",
    "horse_data_small_dr5['outcome'].fillna(1.0, inplace=True)"
   ]
  },
  {
   "cell_type": "code",
   "execution_count": 101,
   "metadata": {},
   "outputs": [
    {
     "name": "stdout",
     "output_type": "stream",
     "text": [
      "кол-во пустых= 0\n"
     ]
    }
   ],
   "source": [
    "#после заполнения\n",
    "print('кол-во пустых=',horse_data_small_dr5['outcome'].isna().sum())"
   ]
  },
  {
   "cell_type": "code",
   "execution_count": 262,
   "metadata": {},
   "outputs": [
    {
     "name": "stdout",
     "output_type": "stream",
     "text": [
      "кол-во пустых= 56\n",
      "distension_ctg\n",
      "1.0    76\n",
      "2.0    65\n",
      "3.0    65\n",
      "4.0    38\n",
      "Name: red_cells_volume, dtype: int64\n"
     ]
    }
   ],
   "source": [
    "#заполение пропусков в переменной distension_ctg\n",
    "print('кол-во пустых=',horse_data_small_dr1['distension_ctg'].isna().sum())\n",
    "\n",
    "print(horse_data_small_dr1.groupby('distension_ctg').count()['red_cells_volume'])"
   ]
  },
  {
   "cell_type": "code",
   "execution_count": 242,
   "metadata": {},
   "outputs": [
    {
     "name": "stdout",
     "output_type": "stream",
     "text": [
      "{4.0: 0.16, 2.0: 0.27, 1.0: 0.31, 3.0: 0.27}\n",
      "{4.0: [0, 0.16], 2.0: [0.16, 0.43], 1.0: [0.43, 0.74], 3.0: [0.74, 1]}\n"
     ]
    }
   ],
   "source": [
    "#создаём список с границами вероятностей всех значений поля distension_ctg :  list_bnd\n",
    "list_val = horse_data_small_dr1[horse_data_small_dr1.distension_ctg.isna()==0]['distension_ctg'].unique()\n",
    "len_list= len(list_val)\n",
    "\n",
    "df_size_notnull = len(horse_data_small_dr1[horse_data_small_dr1.distension_ctg.isna()==0])\n",
    "\n",
    "list_prob = {}\n",
    "list_bnd = {}\n",
    "\n",
    "t_prob_prev=0\n",
    "j=1\n",
    "\n",
    "for i in list_val:\n",
    "    t_prob = round(horse_data_small_dr1[horse_data_small_dr1.distension_ctg==i].count()['distension_ctg']/df_size_notnull,2)\n",
    "    if t_prob>0:    \n",
    "        list_prob[i]=t_prob\n",
    "        t_prob_ = round(t_prob_prev+t_prob,2)\n",
    "        if j== len_list: t_prob_ =1 \n",
    "        list_bnd[i]=[t_prob_prev,t_prob_]\n",
    "        t_prob_prev = t_prob_\n",
    "    j+=1\n",
    "    \n",
    "print(list_prob)\n",
    "print(list_bnd)\n",
    "    "
   ]
  },
  {
   "cell_type": "code",
   "execution_count": 205,
   "metadata": {},
   "outputs": [],
   "source": [
    "import numpy as np\n",
    "import numpy.random\n",
    "import math"
   ]
  },
  {
   "cell_type": "code",
   "execution_count": 243,
   "metadata": {},
   "outputs": [
    {
     "data": {
      "text/plain": [
       "3.0"
      ]
     },
     "execution_count": 243,
     "metadata": {},
     "output_type": "execute_result"
    }
   ],
   "source": [
    "#создаём функцию, которая возвращает переменную, заполненную значениями distension_ctg с тем же распределением\n",
    "def define_notnull(param):\n",
    "    #print('param=', param)\n",
    "    if (param is None)  or (math.isnan(param)):\n",
    "        rnd = numpy.random.uniform()\n",
    "        for key, value in list_bnd.items():\n",
    "     #       print('value[0]=', value[0], 'value[1]=', value[1], 'rnd=', rnd)\n",
    "            if rnd>=value[0] and rnd<value[1] : \n",
    "                res=key \n",
    "      #          print(res)\n",
    "            \n",
    "        return res\n",
    "    return param\n",
    "\n",
    "my_none_variable = None\n",
    "define_notnull(my_none_variable)"
   ]
  },
  {
   "cell_type": "code",
   "execution_count": 225,
   "metadata": {},
   "outputs": [],
   "source": [
    "horse_data_small_dr6=horse_data_small_dr5"
   ]
  },
  {
   "cell_type": "code",
   "execution_count": 244,
   "metadata": {},
   "outputs": [],
   "source": [
    "horse_data_small_dr6['distension_ctg_notnull']=horse_data_small_dr6['distension_ctg'].apply(define_notnull)"
   ]
  },
  {
   "cell_type": "code",
   "execution_count": 245,
   "metadata": {
    "scrolled": true
   },
   "outputs": [
    {
     "data": {
      "text/html": [
       "<div>\n",
       "<style scoped>\n",
       "    .dataframe tbody tr th:only-of-type {\n",
       "        vertical-align: middle;\n",
       "    }\n",
       "\n",
       "    .dataframe tbody tr th {\n",
       "        vertical-align: top;\n",
       "    }\n",
       "\n",
       "    .dataframe thead th {\n",
       "        text-align: right;\n",
       "    }\n",
       "</style>\n",
       "<table border=\"1\" class=\"dataframe\">\n",
       "  <thead>\n",
       "    <tr style=\"text-align: right;\">\n",
       "      <th></th>\n",
       "      <th>red_cells_volume</th>\n",
       "      <th>protein</th>\n",
       "      <th>pulse</th>\n",
       "      <th>distension_ctg</th>\n",
       "      <th>abd_fluid_ctg</th>\n",
       "      <th>outcome</th>\n",
       "      <th>age_flg</th>\n",
       "      <th>distension_ctg_notnull</th>\n",
       "    </tr>\n",
       "  </thead>\n",
       "  <tbody>\n",
       "    <tr>\n",
       "      <th>0</th>\n",
       "      <td>45.0</td>\n",
       "      <td>8.4</td>\n",
       "      <td>66.0</td>\n",
       "      <td>4.0</td>\n",
       "      <td>NaN</td>\n",
       "      <td>2.0</td>\n",
       "      <td>1</td>\n",
       "      <td>4.0</td>\n",
       "    </tr>\n",
       "    <tr>\n",
       "      <th>1</th>\n",
       "      <td>50.0</td>\n",
       "      <td>85.0</td>\n",
       "      <td>88.0</td>\n",
       "      <td>2.0</td>\n",
       "      <td>2.0</td>\n",
       "      <td>3.0</td>\n",
       "      <td>1</td>\n",
       "      <td>2.0</td>\n",
       "    </tr>\n",
       "    <tr>\n",
       "      <th>2</th>\n",
       "      <td>33.0</td>\n",
       "      <td>6.7</td>\n",
       "      <td>40.0</td>\n",
       "      <td>1.0</td>\n",
       "      <td>NaN</td>\n",
       "      <td>1.0</td>\n",
       "      <td>1</td>\n",
       "      <td>1.0</td>\n",
       "    </tr>\n",
       "    <tr>\n",
       "      <th>3</th>\n",
       "      <td>48.0</td>\n",
       "      <td>7.2</td>\n",
       "      <td>164.0</td>\n",
       "      <td>4.0</td>\n",
       "      <td>3.0</td>\n",
       "      <td>2.0</td>\n",
       "      <td>9</td>\n",
       "      <td>4.0</td>\n",
       "    </tr>\n",
       "    <tr>\n",
       "      <th>4</th>\n",
       "      <td>74.0</td>\n",
       "      <td>7.4</td>\n",
       "      <td>104.0</td>\n",
       "      <td>NaN</td>\n",
       "      <td>NaN</td>\n",
       "      <td>2.0</td>\n",
       "      <td>1</td>\n",
       "      <td>1.0</td>\n",
       "    </tr>\n",
       "    <tr>\n",
       "      <th>...</th>\n",
       "      <td>...</td>\n",
       "      <td>...</td>\n",
       "      <td>...</td>\n",
       "      <td>...</td>\n",
       "      <td>...</td>\n",
       "      <td>...</td>\n",
       "      <td>...</td>\n",
       "      <td>...</td>\n",
       "    </tr>\n",
       "    <tr>\n",
       "      <th>295</th>\n",
       "      <td>55.0</td>\n",
       "      <td>65.0</td>\n",
       "      <td>120.0</td>\n",
       "      <td>NaN</td>\n",
       "      <td>NaN</td>\n",
       "      <td>3.0</td>\n",
       "      <td>1</td>\n",
       "      <td>3.0</td>\n",
       "    </tr>\n",
       "    <tr>\n",
       "      <th>296</th>\n",
       "      <td>44.0</td>\n",
       "      <td>56.0</td>\n",
       "      <td>72.0</td>\n",
       "      <td>3.0</td>\n",
       "      <td>3.0</td>\n",
       "      <td>3.0</td>\n",
       "      <td>1</td>\n",
       "      <td>3.0</td>\n",
       "    </tr>\n",
       "    <tr>\n",
       "      <th>297</th>\n",
       "      <td>60.0</td>\n",
       "      <td>6.8</td>\n",
       "      <td>72.0</td>\n",
       "      <td>3.0</td>\n",
       "      <td>NaN</td>\n",
       "      <td>2.0</td>\n",
       "      <td>1</td>\n",
       "      <td>3.0</td>\n",
       "    </tr>\n",
       "    <tr>\n",
       "      <th>298</th>\n",
       "      <td>50.0</td>\n",
       "      <td>6.0</td>\n",
       "      <td>100.0</td>\n",
       "      <td>3.0</td>\n",
       "      <td>3.0</td>\n",
       "      <td>1.0</td>\n",
       "      <td>1</td>\n",
       "      <td>3.0</td>\n",
       "    </tr>\n",
       "    <tr>\n",
       "      <th>299</th>\n",
       "      <td>36.0</td>\n",
       "      <td>62.0</td>\n",
       "      <td>40.0</td>\n",
       "      <td>NaN</td>\n",
       "      <td>1.0</td>\n",
       "      <td>3.0</td>\n",
       "      <td>1</td>\n",
       "      <td>1.0</td>\n",
       "    </tr>\n",
       "  </tbody>\n",
       "</table>\n",
       "<p>300 rows × 8 columns</p>\n",
       "</div>"
      ],
      "text/plain": [
       "     red_cells_volume  protein  pulse  distension_ctg  abd_fluid_ctg  outcome  \\\n",
       "0                45.0      8.4   66.0             4.0            NaN      2.0   \n",
       "1                50.0     85.0   88.0             2.0            2.0      3.0   \n",
       "2                33.0      6.7   40.0             1.0            NaN      1.0   \n",
       "3                48.0      7.2  164.0             4.0            3.0      2.0   \n",
       "4                74.0      7.4  104.0             NaN            NaN      2.0   \n",
       "..                ...      ...    ...             ...            ...      ...   \n",
       "295              55.0     65.0  120.0             NaN            NaN      3.0   \n",
       "296              44.0     56.0   72.0             3.0            3.0      3.0   \n",
       "297              60.0      6.8   72.0             3.0            NaN      2.0   \n",
       "298              50.0      6.0  100.0             3.0            3.0      1.0   \n",
       "299              36.0     62.0   40.0             NaN            1.0      3.0   \n",
       "\n",
       "     age_flg  distension_ctg_notnull  \n",
       "0          1                     4.0  \n",
       "1          1                     2.0  \n",
       "2          1                     1.0  \n",
       "3          9                     4.0  \n",
       "4          1                     1.0  \n",
       "..       ...                     ...  \n",
       "295        1                     3.0  \n",
       "296        1                     3.0  \n",
       "297        1                     3.0  \n",
       "298        1                     3.0  \n",
       "299        1                     1.0  \n",
       "\n",
       "[300 rows x 8 columns]"
      ]
     },
     "execution_count": 245,
     "metadata": {},
     "output_type": "execute_result"
    }
   ],
   "source": [
    "horse_data_small_dr6"
   ]
  },
  {
   "cell_type": "code",
   "execution_count": 246,
   "metadata": {},
   "outputs": [
    {
     "name": "stdout",
     "output_type": "stream",
     "text": [
      "кол-во пустых= 0\n"
     ]
    }
   ],
   "source": [
    "#после заполнения\n",
    "print('кол-во пустых=',hrse_data_small_dr6['distension_ctg_notnull'].isna().sum())"
   ]
  },
  {
   "cell_type": "code",
   "execution_count": 263,
   "metadata": {},
   "outputs": [
    {
     "name": "stdout",
     "output_type": "stream",
     "text": [
      "кол-во пустых= 165\n",
      "abd_fluid_ctg\n",
      "1.0    41\n",
      "2.0    48\n",
      "3.0    46\n",
      "Name: red_cells_volume, dtype: int64\n"
     ]
    }
   ],
   "source": [
    "#заполение пропусков в переменной abd_fluid_ctg\n",
    "#Один пропуск - заполним модой. Самое частое значение =1. \n",
    "print('кол-во пустых=',horse_data_small_dr1['abd_fluid_ctg'].isna().sum())\n",
    "\n",
    "print(horse_data_small_dr1.groupby('abd_fluid_ctg').count()['red_cells_volume'])"
   ]
  },
  {
   "cell_type": "code",
   "execution_count": 248,
   "metadata": {},
   "outputs": [
    {
     "name": "stdout",
     "output_type": "stream",
     "text": [
      "{2.0: 0.36, 3.0: 0.34, 1.0: 0.3}\n",
      "{2.0: [0, 0.36], 3.0: [0.36, 0.7], 1.0: [0.7, 1]}\n"
     ]
    }
   ],
   "source": [
    "#создаём список с границами вероятностей всех значений поля distension_ctg :  list_bnd\n",
    "list_val = horse_data_small_dr1[horse_data_small_dr1.abd_fluid_ctg.isna()==0]['abd_fluid_ctg'].unique()\n",
    "len_list= len(list_val)\n",
    "\n",
    "df_size_notnull = len(horse_data_small_dr1[horse_data_small_dr1.abd_fluid_ctg.isna()==0])\n",
    "\n",
    "list_prob = {}\n",
    "list_bnd = {}\n",
    "\n",
    "t_prob_prev=0\n",
    "j=1\n",
    "\n",
    "for i in list_val:\n",
    "    t_prob = round(horse_data_small_dr1[horse_data_small_dr1.abd_fluid_ctg==i].count()['abd_fluid_ctg']/df_size_notnull,2)\n",
    "    if t_prob>0:    \n",
    "        list_prob[i]=t_prob\n",
    "        t_prob_ = round(t_prob_prev+t_prob,2)\n",
    "        if j== len_list: t_prob_ =1 \n",
    "        list_bnd[i]=[t_prob_prev,t_prob_]\n",
    "        t_prob_prev = t_prob_\n",
    "    j+=1\n",
    "    \n",
    "print(list_prob)\n",
    "print(list_bnd)"
   ]
  },
  {
   "cell_type": "code",
   "execution_count": 249,
   "metadata": {},
   "outputs": [],
   "source": [
    "horse_data_small_dr7=horse_data_small_dr6"
   ]
  },
  {
   "cell_type": "code",
   "execution_count": 250,
   "metadata": {},
   "outputs": [],
   "source": [
    "horse_data_small_dr7['abd_fluid_ctg_notnull']=horse_data_small_dr7['abd_fluid_ctg'].apply(define_notnull)"
   ]
  },
  {
   "cell_type": "code",
   "execution_count": 251,
   "metadata": {},
   "outputs": [
    {
     "data": {
      "text/html": [
       "<div>\n",
       "<style scoped>\n",
       "    .dataframe tbody tr th:only-of-type {\n",
       "        vertical-align: middle;\n",
       "    }\n",
       "\n",
       "    .dataframe tbody tr th {\n",
       "        vertical-align: top;\n",
       "    }\n",
       "\n",
       "    .dataframe thead th {\n",
       "        text-align: right;\n",
       "    }\n",
       "</style>\n",
       "<table border=\"1\" class=\"dataframe\">\n",
       "  <thead>\n",
       "    <tr style=\"text-align: right;\">\n",
       "      <th></th>\n",
       "      <th>red_cells_volume</th>\n",
       "      <th>protein</th>\n",
       "      <th>pulse</th>\n",
       "      <th>distension_ctg</th>\n",
       "      <th>abd_fluid_ctg</th>\n",
       "      <th>outcome</th>\n",
       "      <th>age_flg</th>\n",
       "      <th>distension_ctg_notnull</th>\n",
       "      <th>abd_fluid_ctg_notnull</th>\n",
       "    </tr>\n",
       "  </thead>\n",
       "  <tbody>\n",
       "    <tr>\n",
       "      <th>0</th>\n",
       "      <td>45.0</td>\n",
       "      <td>8.4</td>\n",
       "      <td>66.0</td>\n",
       "      <td>4.0</td>\n",
       "      <td>NaN</td>\n",
       "      <td>2.0</td>\n",
       "      <td>1</td>\n",
       "      <td>4.0</td>\n",
       "      <td>3.0</td>\n",
       "    </tr>\n",
       "    <tr>\n",
       "      <th>1</th>\n",
       "      <td>50.0</td>\n",
       "      <td>85.0</td>\n",
       "      <td>88.0</td>\n",
       "      <td>2.0</td>\n",
       "      <td>2.0</td>\n",
       "      <td>3.0</td>\n",
       "      <td>1</td>\n",
       "      <td>2.0</td>\n",
       "      <td>2.0</td>\n",
       "    </tr>\n",
       "    <tr>\n",
       "      <th>2</th>\n",
       "      <td>33.0</td>\n",
       "      <td>6.7</td>\n",
       "      <td>40.0</td>\n",
       "      <td>1.0</td>\n",
       "      <td>NaN</td>\n",
       "      <td>1.0</td>\n",
       "      <td>1</td>\n",
       "      <td>1.0</td>\n",
       "      <td>2.0</td>\n",
       "    </tr>\n",
       "    <tr>\n",
       "      <th>3</th>\n",
       "      <td>48.0</td>\n",
       "      <td>7.2</td>\n",
       "      <td>164.0</td>\n",
       "      <td>4.0</td>\n",
       "      <td>3.0</td>\n",
       "      <td>2.0</td>\n",
       "      <td>9</td>\n",
       "      <td>4.0</td>\n",
       "      <td>3.0</td>\n",
       "    </tr>\n",
       "    <tr>\n",
       "      <th>4</th>\n",
       "      <td>74.0</td>\n",
       "      <td>7.4</td>\n",
       "      <td>104.0</td>\n",
       "      <td>NaN</td>\n",
       "      <td>NaN</td>\n",
       "      <td>2.0</td>\n",
       "      <td>1</td>\n",
       "      <td>1.0</td>\n",
       "      <td>1.0</td>\n",
       "    </tr>\n",
       "    <tr>\n",
       "      <th>...</th>\n",
       "      <td>...</td>\n",
       "      <td>...</td>\n",
       "      <td>...</td>\n",
       "      <td>...</td>\n",
       "      <td>...</td>\n",
       "      <td>...</td>\n",
       "      <td>...</td>\n",
       "      <td>...</td>\n",
       "      <td>...</td>\n",
       "    </tr>\n",
       "    <tr>\n",
       "      <th>295</th>\n",
       "      <td>55.0</td>\n",
       "      <td>65.0</td>\n",
       "      <td>120.0</td>\n",
       "      <td>NaN</td>\n",
       "      <td>NaN</td>\n",
       "      <td>3.0</td>\n",
       "      <td>1</td>\n",
       "      <td>3.0</td>\n",
       "      <td>1.0</td>\n",
       "    </tr>\n",
       "    <tr>\n",
       "      <th>296</th>\n",
       "      <td>44.0</td>\n",
       "      <td>56.0</td>\n",
       "      <td>72.0</td>\n",
       "      <td>3.0</td>\n",
       "      <td>3.0</td>\n",
       "      <td>3.0</td>\n",
       "      <td>1</td>\n",
       "      <td>3.0</td>\n",
       "      <td>3.0</td>\n",
       "    </tr>\n",
       "    <tr>\n",
       "      <th>297</th>\n",
       "      <td>60.0</td>\n",
       "      <td>6.8</td>\n",
       "      <td>72.0</td>\n",
       "      <td>3.0</td>\n",
       "      <td>NaN</td>\n",
       "      <td>2.0</td>\n",
       "      <td>1</td>\n",
       "      <td>3.0</td>\n",
       "      <td>3.0</td>\n",
       "    </tr>\n",
       "    <tr>\n",
       "      <th>298</th>\n",
       "      <td>50.0</td>\n",
       "      <td>6.0</td>\n",
       "      <td>100.0</td>\n",
       "      <td>3.0</td>\n",
       "      <td>3.0</td>\n",
       "      <td>1.0</td>\n",
       "      <td>1</td>\n",
       "      <td>3.0</td>\n",
       "      <td>3.0</td>\n",
       "    </tr>\n",
       "    <tr>\n",
       "      <th>299</th>\n",
       "      <td>36.0</td>\n",
       "      <td>62.0</td>\n",
       "      <td>40.0</td>\n",
       "      <td>NaN</td>\n",
       "      <td>1.0</td>\n",
       "      <td>3.0</td>\n",
       "      <td>1</td>\n",
       "      <td>1.0</td>\n",
       "      <td>1.0</td>\n",
       "    </tr>\n",
       "  </tbody>\n",
       "</table>\n",
       "<p>300 rows × 9 columns</p>\n",
       "</div>"
      ],
      "text/plain": [
       "     red_cells_volume  protein  pulse  distension_ctg  abd_fluid_ctg  outcome  \\\n",
       "0                45.0      8.4   66.0             4.0            NaN      2.0   \n",
       "1                50.0     85.0   88.0             2.0            2.0      3.0   \n",
       "2                33.0      6.7   40.0             1.0            NaN      1.0   \n",
       "3                48.0      7.2  164.0             4.0            3.0      2.0   \n",
       "4                74.0      7.4  104.0             NaN            NaN      2.0   \n",
       "..                ...      ...    ...             ...            ...      ...   \n",
       "295              55.0     65.0  120.0             NaN            NaN      3.0   \n",
       "296              44.0     56.0   72.0             3.0            3.0      3.0   \n",
       "297              60.0      6.8   72.0             3.0            NaN      2.0   \n",
       "298              50.0      6.0  100.0             3.0            3.0      1.0   \n",
       "299              36.0     62.0   40.0             NaN            1.0      3.0   \n",
       "\n",
       "     age_flg  distension_ctg_notnull  abd_fluid_ctg_notnull  \n",
       "0          1                     4.0                    3.0  \n",
       "1          1                     2.0                    2.0  \n",
       "2          1                     1.0                    2.0  \n",
       "3          9                     4.0                    3.0  \n",
       "4          1                     1.0                    1.0  \n",
       "..       ...                     ...                    ...  \n",
       "295        1                     3.0                    1.0  \n",
       "296        1                     3.0                    3.0  \n",
       "297        1                     3.0                    3.0  \n",
       "298        1                     3.0                    3.0  \n",
       "299        1                     1.0                    1.0  \n",
       "\n",
       "[300 rows x 9 columns]"
      ]
     },
     "execution_count": 251,
     "metadata": {},
     "output_type": "execute_result"
    }
   ],
   "source": [
    "horse_data_small_dr7"
   ]
  },
  {
   "cell_type": "code",
   "execution_count": 264,
   "metadata": {},
   "outputs": [
    {
     "name": "stdout",
     "output_type": "stream",
     "text": [
      "кол-во пустых= 0\n"
     ]
    }
   ],
   "source": [
    "#после заполнения\n",
    "print('кол-во пустых=',horse_data_small_dr7['abd_fluid_ctg_notnull'].isna().sum())"
   ]
  },
  {
   "cell_type": "code",
   "execution_count": 265,
   "metadata": {},
   "outputs": [
    {
     "name": "stdout",
     "output_type": "stream",
     "text": [
      "red_cells_volume-0.0%\n",
      "protein-0.0%\n",
      "pulse-0.0%\n",
      "distension_ctg-18.7%\n",
      "abd_fluid_ctg-55.0%\n",
      "outcome-0.0%\n",
      "age_flg-0.0%\n",
      "distension_ctg_notnull-0.0%\n",
      "abd_fluid_ctg_notnull-0.0%\n"
     ]
    }
   ],
   "source": [
    "for col in horse_data_small_dr7.columns:\n",
    "    df_miss = horse_data_small_dr7[col].isna().mean()\n",
    "    print(f'{col}-{df_miss:.1%}')\n",
    "    "
   ]
  }
 ],
 "metadata": {
  "kernelspec": {
   "display_name": "Python 3",
   "language": "python",
   "name": "python3"
  },
  "language_info": {
   "codemirror_mode": {
    "name": "ipython",
    "version": 3
   },
   "file_extension": ".py",
   "mimetype": "text/x-python",
   "name": "python",
   "nbconvert_exporter": "python",
   "pygments_lexer": "ipython3",
   "version": "3.8.3"
  }
 },
 "nbformat": 4,
 "nbformat_minor": 4
}
